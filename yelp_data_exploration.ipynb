{
 "cells": [
  {
   "cell_type": "markdown",
   "metadata": {},
   "source": [
    "# Subsetting and Exploring Yelp Data"
   ]
  },
  {
   "cell_type": "code",
   "execution_count": 35,
   "metadata": {},
   "outputs": [],
   "source": [
    "from pyspark.sql import SparkSession\n",
    "from pyspark import SparkContext\n",
    "from pyspark.sql.functions import explode, split, col, concat_ws, count\n",
    "import os\n",
    "import re"
   ]
  },
  {
   "cell_type": "code",
   "execution_count": 2,
   "metadata": {},
   "outputs": [
    {
     "name": "stderr",
     "output_type": "stream",
     "text": [
      "Setting default log level to \"WARN\".\n",
      "To adjust logging level use sc.setLogLevel(newLevel). For SparkR, use setLogLevel(newLevel).\n",
      "24/03/28 14:09:52 WARN NativeCodeLoader: Unable to load native-hadoop library for your platform... using builtin-java classes where applicable\n"
     ]
    }
   ],
   "source": [
    "ss = SparkSession.builder \\\n",
    "    .appName(\"Yelp Data Analysis\") \\\n",
    "    .config(\"spark.driver.bindAddress\", \"localhost\") \\\n",
    "    .getOrCreate()"
   ]
  },
  {
   "cell_type": "code",
   "execution_count": 4,
   "metadata": {},
   "outputs": [],
   "source": [
    "# Get DF for yelp_academic_dataset_business.json\n",
    "df = ss.read.json(\"/Users/scampione/MSDS/Spring_24_2/Entrepreneurship/yelp_dataset/yelp_academic_dataset_business.json\")"
   ]
  },
  {
   "cell_type": "code",
   "execution_count": 283,
   "metadata": {},
   "outputs": [
    {
     "name": "stdout",
     "output_type": "stream",
     "text": [
      "root\n",
      " |-- address: string (nullable = true)\n",
      " |-- attributes: struct (nullable = true)\n",
      " |    |-- AcceptsInsurance: string (nullable = true)\n",
      " |    |-- AgesAllowed: string (nullable = true)\n",
      " |    |-- Alcohol: string (nullable = true)\n",
      " |    |-- Ambience: string (nullable = true)\n",
      " |    |-- BYOB: string (nullable = true)\n",
      " |    |-- BYOBCorkage: string (nullable = true)\n",
      " |    |-- BestNights: string (nullable = true)\n",
      " |    |-- BikeParking: string (nullable = true)\n",
      " |    |-- BusinessAcceptsBitcoin: string (nullable = true)\n",
      " |    |-- BusinessAcceptsCreditCards: string (nullable = true)\n",
      " |    |-- BusinessParking: string (nullable = true)\n",
      " |    |-- ByAppointmentOnly: string (nullable = true)\n",
      " |    |-- Caters: string (nullable = true)\n",
      " |    |-- CoatCheck: string (nullable = true)\n",
      " |    |-- Corkage: string (nullable = true)\n",
      " |    |-- DietaryRestrictions: string (nullable = true)\n",
      " |    |-- DogsAllowed: string (nullable = true)\n",
      " |    |-- DriveThru: string (nullable = true)\n",
      " |    |-- GoodForDancing: string (nullable = true)\n",
      " |    |-- GoodForKids: string (nullable = true)\n",
      " |    |-- GoodForMeal: string (nullable = true)\n",
      " |    |-- HairSpecializesIn: string (nullable = true)\n",
      " |    |-- HappyHour: string (nullable = true)\n",
      " |    |-- HasTV: string (nullable = true)\n",
      " |    |-- Music: string (nullable = true)\n",
      " |    |-- NoiseLevel: string (nullable = true)\n",
      " |    |-- Open24Hours: string (nullable = true)\n",
      " |    |-- OutdoorSeating: string (nullable = true)\n",
      " |    |-- RestaurantsAttire: string (nullable = true)\n",
      " |    |-- RestaurantsCounterService: string (nullable = true)\n",
      " |    |-- RestaurantsDelivery: string (nullable = true)\n",
      " |    |-- RestaurantsGoodForGroups: string (nullable = true)\n",
      " |    |-- RestaurantsPriceRange2: string (nullable = true)\n",
      " |    |-- RestaurantsReservations: string (nullable = true)\n",
      " |    |-- RestaurantsTableService: string (nullable = true)\n",
      " |    |-- RestaurantsTakeOut: string (nullable = true)\n",
      " |    |-- Smoking: string (nullable = true)\n",
      " |    |-- WheelchairAccessible: string (nullable = true)\n",
      " |    |-- WiFi: string (nullable = true)\n",
      " |-- business_id: string (nullable = true)\n",
      " |-- categories: string (nullable = true)\n",
      " |-- city: string (nullable = true)\n",
      " |-- hours: struct (nullable = true)\n",
      " |    |-- Friday: string (nullable = true)\n",
      " |    |-- Monday: string (nullable = true)\n",
      " |    |-- Saturday: string (nullable = true)\n",
      " |    |-- Sunday: string (nullable = true)\n",
      " |    |-- Thursday: string (nullable = true)\n",
      " |    |-- Tuesday: string (nullable = true)\n",
      " |    |-- Wednesday: string (nullable = true)\n",
      " |-- is_open: long (nullable = true)\n",
      " |-- latitude: double (nullable = true)\n",
      " |-- longitude: double (nullable = true)\n",
      " |-- name: string (nullable = true)\n",
      " |-- postal_code: string (nullable = true)\n",
      " |-- review_count: long (nullable = true)\n",
      " |-- stars: double (nullable = true)\n",
      " |-- state: string (nullable = true)\n",
      "\n"
     ]
    }
   ],
   "source": [
    "df.printSchema()"
   ]
  },
  {
   "cell_type": "code",
   "execution_count": 290,
   "metadata": {},
   "outputs": [
    {
     "ename": "SparkRuntimeException",
     "evalue": "[LOCATION_ALREADY_EXISTS] Cannot name the managed table as `spark_catalog`.`default`.`yelp_business`, as its associated location 'file:/Users/scampione/MSDS/Spring_24_2/Entrepreneurship/spark-warehouse/yelp_business' already exists. Please pick a different table name, or remove the existing location first.",
     "output_type": "error",
     "traceback": [
      "\u001b[0;31m---------------------------------------------------------------------------\u001b[0m",
      "\u001b[0;31mSparkRuntimeException\u001b[0m                     Traceback (most recent call last)",
      "Cell \u001b[0;32mIn[290], line 4\u001b[0m\n\u001b[1;32m      1\u001b[0m ss\u001b[38;5;241m.\u001b[39msql(\u001b[38;5;124m\"\u001b[39m\u001b[38;5;124mDROP TABLE IF EXISTS yelp_business\u001b[39m\u001b[38;5;124m\"\u001b[39m)\n\u001b[1;32m      3\u001b[0m \u001b[38;5;66;03m# df.write.option('path', '/yelp_dataset/yelp_business_df').saveAsTable('yelp_business')\u001b[39;00m\n\u001b[0;32m----> 4\u001b[0m \u001b[43mdf\u001b[49m\u001b[38;5;241;43m.\u001b[39;49m\u001b[43mwrite\u001b[49m\u001b[38;5;241;43m.\u001b[39;49m\u001b[43msaveAsTable\u001b[49m\u001b[43m(\u001b[49m\u001b[38;5;124;43m'\u001b[39;49m\u001b[38;5;124;43myelp_business\u001b[39;49m\u001b[38;5;124;43m'\u001b[39;49m\u001b[43m)\u001b[49m\n",
      "File \u001b[0;32m~/anaconda3/envs/DistributedComputing/lib/python3.8/site-packages/pyspark/sql/readwriter.py:1521\u001b[0m, in \u001b[0;36mDataFrameWriter.saveAsTable\u001b[0;34m(self, name, format, mode, partitionBy, **options)\u001b[0m\n\u001b[1;32m   1519\u001b[0m \u001b[38;5;28;01mif\u001b[39;00m \u001b[38;5;28mformat\u001b[39m \u001b[38;5;129;01mis\u001b[39;00m \u001b[38;5;129;01mnot\u001b[39;00m \u001b[38;5;28;01mNone\u001b[39;00m:\n\u001b[1;32m   1520\u001b[0m     \u001b[38;5;28mself\u001b[39m\u001b[38;5;241m.\u001b[39mformat(\u001b[38;5;28mformat\u001b[39m)\n\u001b[0;32m-> 1521\u001b[0m \u001b[38;5;28;43mself\u001b[39;49m\u001b[38;5;241;43m.\u001b[39;49m\u001b[43m_jwrite\u001b[49m\u001b[38;5;241;43m.\u001b[39;49m\u001b[43msaveAsTable\u001b[49m\u001b[43m(\u001b[49m\u001b[43mname\u001b[49m\u001b[43m)\u001b[49m\n",
      "File \u001b[0;32m~/anaconda3/envs/DistributedComputing/lib/python3.8/site-packages/py4j/java_gateway.py:1322\u001b[0m, in \u001b[0;36mJavaMember.__call__\u001b[0;34m(self, *args)\u001b[0m\n\u001b[1;32m   1316\u001b[0m command \u001b[38;5;241m=\u001b[39m proto\u001b[38;5;241m.\u001b[39mCALL_COMMAND_NAME \u001b[38;5;241m+\u001b[39m\\\n\u001b[1;32m   1317\u001b[0m     \u001b[38;5;28mself\u001b[39m\u001b[38;5;241m.\u001b[39mcommand_header \u001b[38;5;241m+\u001b[39m\\\n\u001b[1;32m   1318\u001b[0m     args_command \u001b[38;5;241m+\u001b[39m\\\n\u001b[1;32m   1319\u001b[0m     proto\u001b[38;5;241m.\u001b[39mEND_COMMAND_PART\n\u001b[1;32m   1321\u001b[0m answer \u001b[38;5;241m=\u001b[39m \u001b[38;5;28mself\u001b[39m\u001b[38;5;241m.\u001b[39mgateway_client\u001b[38;5;241m.\u001b[39msend_command(command)\n\u001b[0;32m-> 1322\u001b[0m return_value \u001b[38;5;241m=\u001b[39m \u001b[43mget_return_value\u001b[49m\u001b[43m(\u001b[49m\n\u001b[1;32m   1323\u001b[0m \u001b[43m    \u001b[49m\u001b[43manswer\u001b[49m\u001b[43m,\u001b[49m\u001b[43m \u001b[49m\u001b[38;5;28;43mself\u001b[39;49m\u001b[38;5;241;43m.\u001b[39;49m\u001b[43mgateway_client\u001b[49m\u001b[43m,\u001b[49m\u001b[43m \u001b[49m\u001b[38;5;28;43mself\u001b[39;49m\u001b[38;5;241;43m.\u001b[39;49m\u001b[43mtarget_id\u001b[49m\u001b[43m,\u001b[49m\u001b[43m \u001b[49m\u001b[38;5;28;43mself\u001b[39;49m\u001b[38;5;241;43m.\u001b[39;49m\u001b[43mname\u001b[49m\u001b[43m)\u001b[49m\n\u001b[1;32m   1325\u001b[0m \u001b[38;5;28;01mfor\u001b[39;00m temp_arg \u001b[38;5;129;01min\u001b[39;00m temp_args:\n\u001b[1;32m   1326\u001b[0m     \u001b[38;5;28;01mif\u001b[39;00m \u001b[38;5;28mhasattr\u001b[39m(temp_arg, \u001b[38;5;124m\"\u001b[39m\u001b[38;5;124m_detach\u001b[39m\u001b[38;5;124m\"\u001b[39m):\n",
      "File \u001b[0;32m~/anaconda3/envs/DistributedComputing/lib/python3.8/site-packages/pyspark/errors/exceptions/captured.py:175\u001b[0m, in \u001b[0;36mcapture_sql_exception.<locals>.deco\u001b[0;34m(*a, **kw)\u001b[0m\n\u001b[1;32m    171\u001b[0m converted \u001b[38;5;241m=\u001b[39m convert_exception(e\u001b[38;5;241m.\u001b[39mjava_exception)\n\u001b[1;32m    172\u001b[0m \u001b[38;5;28;01mif\u001b[39;00m \u001b[38;5;129;01mnot\u001b[39;00m \u001b[38;5;28misinstance\u001b[39m(converted, UnknownException):\n\u001b[1;32m    173\u001b[0m     \u001b[38;5;66;03m# Hide where the exception came from that shows a non-Pythonic\u001b[39;00m\n\u001b[1;32m    174\u001b[0m     \u001b[38;5;66;03m# JVM exception message.\u001b[39;00m\n\u001b[0;32m--> 175\u001b[0m     \u001b[38;5;28;01mraise\u001b[39;00m converted \u001b[38;5;28;01mfrom\u001b[39;00m \u001b[38;5;28;01mNone\u001b[39;00m\n\u001b[1;32m    176\u001b[0m \u001b[38;5;28;01melse\u001b[39;00m:\n\u001b[1;32m    177\u001b[0m     \u001b[38;5;28;01mraise\u001b[39;00m\n",
      "\u001b[0;31mSparkRuntimeException\u001b[0m: [LOCATION_ALREADY_EXISTS] Cannot name the managed table as `spark_catalog`.`default`.`yelp_business`, as its associated location 'file:/Users/scampione/MSDS/Spring_24_2/Entrepreneurship/spark-warehouse/yelp_business' already exists. Please pick a different table name, or remove the existing location first."
     ]
    }
   ],
   "source": [
    "ss.sql(\"DROP TABLE IF EXISTS yelp_business\")\n",
    "\n",
    "# df.write.option('path', '/yelp_dataset/yelp_business_df').saveAsTable('yelp_business')\n",
    "df.write.saveAsTable('yelp_business')"
   ]
  },
  {
   "cell_type": "code",
   "execution_count": 291,
   "metadata": {},
   "outputs": [
    {
     "name": "stdout",
     "output_type": "stream",
     "text": [
      "+------------+--------+\n",
      "|        city|count(1)|\n",
      "+------------+--------+\n",
      "|Philadelphia|   14569|\n",
      "|      Tucson|    9250|\n",
      "|       Tampa|    9050|\n",
      "|Indianapolis|    7540|\n",
      "|   Nashville|    6971|\n",
      "+------------+--------+\n",
      "only showing top 5 rows\n",
      "\n"
     ]
    }
   ],
   "source": [
    "ss.sql(\"SELECT city, COUNT(*) FROM parquet.`/Users/scampione/MSDS/Spring_24_2/Entrepreneurship/yelp_dataset/yelp_business_df` GROUP BY city ORDER BY count(*) DESC \").show(5)"
   ]
  },
  {
   "cell_type": "code",
   "execution_count": 292,
   "metadata": {},
   "outputs": [
    {
     "name": "stderr",
     "output_type": "stream",
     "text": [
      "[Stage 12:=======>                                                  (1 + 7) / 8]\r"
     ]
    },
    {
     "name": "stdout",
     "output_type": "stream",
     "text": [
      "+--------------------+--------+\n",
      "|          categories|count(1)|\n",
      "+--------------------+--------+\n",
      "|Home Services, Ho...|       1|\n",
      "|Chicken Wings, Fa...|       2|\n",
      "|Auto Customizatio...|       1|\n",
      "|Health & Medical,...|       1|\n",
      "|Tours, Active Lif...|       1|\n",
      "|Food, Grocery, Sh...|       1|\n",
      "|Active Life, Braz...|       1|\n",
      "|Fruits & Veggies,...|       1|\n",
      "|Bagels, Restauran...|       1|\n",
      "|  Parks, Active Life|      17|\n",
      "|Beauty & Spas, He...|       1|\n",
      "|Japanese, Food, T...|       1|\n",
      "|Laboratory Testin...|       3|\n",
      "|Laser Hair Remova...|       1|\n",
      "|Korean, Food, Res...|       1|\n",
      "|Food Stands, Rest...|       2|\n",
      "|Hair Removal, Wax...|       1|\n",
      "|Food, Specialty F...|       1|\n",
      "|Pizza, Italian, S...|       3|\n",
      "|Nightlife, Restau...|       1|\n",
      "+--------------------+--------+\n",
      "only showing top 20 rows\n",
      "\n"
     ]
    },
    {
     "name": "stderr",
     "output_type": "stream",
     "text": [
      "                                                                                \r"
     ]
    }
   ],
   "source": [
    "query = \"\"\" \n",
    "        SELECT categories, count(*)\n",
    "        FROM parquet.`/Users/scampione/MSDS/Spring_24_2/Entrepreneurship/yelp_dataset/yelp_business_df`\n",
    "        WHERE city = 'Philadelphia'\n",
    "        GROUP BY categories\n",
    "        \"\"\"\n",
    "\n",
    "ss.sql(query).show()"
   ]
  },
  {
   "cell_type": "code",
   "execution_count": 293,
   "metadata": {},
   "outputs": [
    {
     "name": "stdout",
     "output_type": "stream",
     "text": [
      "+--------------------------------------------------------------------------------------------------+\n",
      "|categories                                                                                        |\n",
      "+--------------------------------------------------------------------------------------------------+\n",
      "|Burgers, Caterers, Restaurants, Nightlife, American (Traditional), Bars, Event Planning & Services|\n",
      "|Restaurants, American (New)                                                                       |\n",
      "|Breakfast & Brunch, Restaurants                                                                   |\n",
      "|Restaurants, Chicken Shop, Peruvian                                                               |\n",
      "|Fast Food, Restaurants, Food, Coffee & Tea, Burgers                                               |\n",
      "|Greek, Food, Mediterranean, Falafel, Restaurants, Salad, Caterers, Event Planning & Services      |\n",
      "|Restaurants, American (New)                                                                       |\n",
      "|Food, Sandwiches, Grocery, Restaurants, Delis                                                     |\n",
      "|Seafood, Chicken Shop, Restaurants, Chinese                                                       |\n",
      "|Barbeque, Nightlife, Beer Bar, Bars, Restaurants, Whiskey Bars                                    |\n",
      "+--------------------------------------------------------------------------------------------------+\n",
      "only showing top 10 rows\n",
      "\n"
     ]
    }
   ],
   "source": [
    "query = \"\"\" \n",
    "        SELECT categories\n",
    "        FROM parquet.`/Users/scampione/MSDS/Spring_24_2/Entrepreneurship/yelp_dataset/yelp_business_df`\n",
    "        WHERE city = 'Philadelphia' AND categories LIKE '%Restaurant%'\n",
    "        \"\"\"\n",
    "\n",
    "ss.sql(query).show(10, truncate=False)"
   ]
  },
  {
   "cell_type": "code",
   "execution_count": 242,
   "metadata": {},
   "outputs": [
    {
     "name": "stdout",
     "output_type": "stream",
     "text": [
      "+----------------------+\n",
      "|total_restaurants_bars|\n",
      "+----------------------+\n",
      "|                  6409|\n",
      "+----------------------+\n",
      "\n"
     ]
    }
   ],
   "source": [
    "# Count of restauarants and bars in Philly\n",
    "query = \"\"\" \n",
    "        SELECT count(*) AS total_restaurants_bars\n",
    "        FROM parquet.`/Users/scampione/MSDS/Spring_24_2/Entrepreneurship/yelp_dataset/yelp_business_df`\n",
    "        WHERE city = 'Philadelphia' \n",
    "         AND (categories LIKE '%Restaurant%' OR categories LIKE '%Bar%')\n",
    "        \"\"\"\n",
    "\n",
    "ss.sql(query).show()"
   ]
  },
  {
   "cell_type": "code",
   "execution_count": 243,
   "metadata": {},
   "outputs": [
    {
     "name": "stdout",
     "output_type": "stream",
     "text": [
      "+-------------------+\n",
      "|category           |\n",
      "+-------------------+\n",
      "|Skating Rinks      |\n",
      "|Fondue             |\n",
      "|Hobby Shops        |\n",
      "|Bubble Tea         |\n",
      "|Restaurant Supplies|\n",
      "|Cafeteria          |\n",
      "|Salad              |\n",
      "|Beauty & Spas      |\n",
      "|Beer Bar           |\n",
      "|Education          |\n",
      "+-------------------+\n",
      "only showing top 10 rows\n",
      "\n"
     ]
    }
   ],
   "source": [
    "new_df = ss.sql(\"\"\"\n",
    "        SELECT categories\n",
    "        FROM parquet.`/Users/scampione/MSDS/Spring_24_2/Entrepreneurship/yelp_dataset/yelp_business_df`\n",
    "        WHERE city = 'Philadelphia' AND (categories LIKE '%Restaurant%' OR categories LIKE '%Bar%')\n",
    "        \"\"\")\n",
    "\n",
    "# Splitting categories and exploding them into separate rows, then selecting distinct\n",
    "unique_categories = new_df.withColumn(\"category\", explode(split(\"categories\", \", \"))) \\\n",
    "                      .select(\"category\").distinct()\n",
    "\n",
    "unique_categories.show(10, truncate=False)\n"
   ]
  },
  {
   "cell_type": "code",
   "execution_count": 244,
   "metadata": {},
   "outputs": [
    {
     "name": "stdout",
     "output_type": "stream",
     "text": [
      "+----------------------------------------------------------------------------------------------------------------------------------------------------------------+\n",
      "|Ambience                                                                                                                                                        |\n",
      "+----------------------------------------------------------------------------------------------------------------------------------------------------------------+\n",
      "|None                                                                                                                                                            |\n",
      "|{'romantic': False, 'intimate': False, 'touristy': False, 'hipster': False, 'divey': False, 'classy': False, 'trendy': False, 'upscale': False, 'casual': False}|\n",
      "|{'touristy': False, 'hipster': False, 'romantic': False, 'divey': False, 'intimate': False, 'trendy': False, 'upscale': False, 'classy': False, 'casual': False}|\n",
      "|{'touristy': None, 'hipster': None, 'romantic': False, 'divey': None, 'intimate': None, 'trendy': None, 'upscale': None, 'classy': None, 'casual': True}        |\n",
      "|{'romantic': False, 'intimate': False, 'touristy': False, 'hipster': False, 'divey': False, 'classy': False, 'trendy': False, 'upscale': False, 'casual': True} |\n",
      "+----------------------------------------------------------------------------------------------------------------------------------------------------------------+\n",
      "only showing top 5 rows\n",
      "\n"
     ]
    }
   ],
   "source": [
    "ambience_df = df.select(\"attributes.Ambience\").filter(col(\"attributes.Ambience\").isNotNull())\n",
    "ambience_df.show(5, truncate=False)"
   ]
  },
  {
   "cell_type": "code",
   "execution_count": 245,
   "metadata": {},
   "outputs": [],
   "source": [
    "# Subset of business_ids for restauarants and bars in Philly\n",
    "query = \"\"\" \n",
    "        SELECT business_id\n",
    "        FROM parquet.`/Users/scampione/MSDS/Spring_24_2/Entrepreneurship/yelp_dataset/yelp_business_df`\n",
    "        WHERE city = 'Philadelphia' \n",
    "         AND (categories LIKE '%Restaurant%' OR categories LIKE '%Bar%')\n",
    "        \"\"\"\n",
    "\n",
    "subset_df = ss.sql(query)"
   ]
  },
  {
   "cell_type": "code",
   "execution_count": 246,
   "metadata": {},
   "outputs": [
    {
     "data": {
      "text/plain": [
       "6409"
      ]
     },
     "execution_count": 246,
     "metadata": {},
     "output_type": "execute_result"
    }
   ],
   "source": [
    "subset_df.select('business_id').distinct().count()"
   ]
  },
  {
   "cell_type": "code",
   "execution_count": 247,
   "metadata": {},
   "outputs": [],
   "source": [
    "# subset_df.coalesce(1).write.csv/Users/scampione/MSDS/Spring_24_2/Entrepreneurship/subset_philly_businesses')"
   ]
  },
  {
   "cell_type": "code",
   "execution_count": 248,
   "metadata": {},
   "outputs": [],
   "source": [
    "# Subset of yelp data for restauarants and bars in Philly\n",
    "query = \"\"\" \n",
    "        SELECT *\n",
    "        FROM parquet.`/Users/scampione/MSDS/Spring_24_2/Entrepreneurship/yelp_dataset/yelp_business_df`\n",
    "        WHERE city = 'Philadelphia' \n",
    "         AND (categories LIKE '%Restaurant%' OR categories LIKE '%Bar%')\n",
    "        \"\"\"\n",
    "\n",
    "subset_df_all = ss.sql(query)"
   ]
  },
  {
   "cell_type": "code",
   "execution_count": 249,
   "metadata": {},
   "outputs": [
    {
     "name": "stderr",
     "output_type": "stream",
     "text": [
      "24/03/28 13:01:35 WARN MemoryManager: Total allocation exceeds 95.00% (1,020,054,720 bytes) of heap memory\n",
      "Scaling row group sizes to 95.00% for 8 writers\n",
      "                                                                                \r"
     ]
    }
   ],
   "source": [
    "ss.sql(\"DROP TABLE IF EXISTS philly_df\")\n",
    "\n",
    "subset_df_all.write.saveAsTable('philly_df')"
   ]
  },
  {
   "cell_type": "markdown",
   "metadata": {},
   "source": [
    "## Photos metadata JSON"
   ]
  },
  {
   "cell_type": "code",
   "execution_count": 250,
   "metadata": {},
   "outputs": [],
   "source": [
    "photos_meta = ss.read.json('/Users/scampione/MSDS/Spring_24_2/Entrepreneurship/yelp_photos/photos.json')"
   ]
  },
  {
   "cell_type": "code",
   "execution_count": 251,
   "metadata": {},
   "outputs": [
    {
     "name": "stdout",
     "output_type": "stream",
     "text": [
      "+--------------------+--------------------+-------+--------------------+\n",
      "|         business_id|             caption|  label|            photo_id|\n",
      "+--------------------+--------------------+-------+--------------------+\n",
      "|Nk-SJhPlDBkAZvfsA...|Nice rock artwork...| inside|zsvj7vloL4L5jhYyP...|\n",
      "|yVZtL5MmrpiivyCIr...|                    |outside|HCUdRJHHm_e0OCTlZ...|\n",
      "|_ab50qdWOk0DdB6XO...|      oyster shooter|  drink|vkr8T0scuJmGVvN2H...|\n",
      "|SZU9c8V2GuREDN5Kg...|       Shrimp scampi|   food|pve7D6NUrafHW3EAO...|\n",
      "|Gzur0f0XMkrVxIwYJ...|                    |   food|H52Er-uBg6rNrHcRe...|\n",
      "+--------------------+--------------------+-------+--------------------+\n",
      "only showing top 5 rows\n",
      "\n"
     ]
    }
   ],
   "source": [
    "photos_meta.select('*').show(5)"
   ]
  },
  {
   "cell_type": "code",
   "execution_count": 252,
   "metadata": {},
   "outputs": [],
   "source": [
    "ss.sql(\"DROP TABLE IF EXISTS photos_meta\")\n",
    "photos_meta.write.saveAsTable('photos_meta')"
   ]
  },
  {
   "cell_type": "code",
   "execution_count": 253,
   "metadata": {},
   "outputs": [],
   "source": [
    "philly_photos = photos_meta.join(subset_df, on='business_id')"
   ]
  },
  {
   "cell_type": "code",
   "execution_count": 254,
   "metadata": {},
   "outputs": [
    {
     "name": "stdout",
     "output_type": "stream",
     "text": [
      "root\n",
      " |-- business_id: string (nullable = true)\n",
      " |-- caption: string (nullable = true)\n",
      " |-- label: string (nullable = true)\n",
      " |-- photo_id: string (nullable = true)\n",
      "\n"
     ]
    }
   ],
   "source": [
    "philly_photos.printSchema()"
   ]
  },
  {
   "cell_type": "code",
   "execution_count": 255,
   "metadata": {},
   "outputs": [],
   "source": [
    "ss.sql(\"DROP TABLE IF EXISTS philly_photos\")\n",
    "\n",
    "philly_photos.write.saveAsTable('philly_photos')"
   ]
  },
  {
   "cell_type": "code",
   "execution_count": 256,
   "metadata": {},
   "outputs": [
    {
     "data": {
      "text/plain": [
       "1307"
      ]
     },
     "execution_count": 256,
     "metadata": {},
     "output_type": "execute_result"
    }
   ],
   "source": [
    "# Number businesses with at least 5 photos\n",
    "ss.sql(\"SELECT business_id, count(photo_id) FROM philly_photos GROUP BY business_id HAVING count(photo_id) >= 5\").count()"
   ]
  },
  {
   "cell_type": "code",
   "execution_count": 257,
   "metadata": {},
   "outputs": [
    {
     "name": "stdout",
     "output_type": "stream",
     "text": [
      "+--------------------+---------------+\n",
      "|         business_id|count(photo_id)|\n",
      "+--------------------+---------------+\n",
      "|mhm7pNRVZhSr3RBo9...|             37|\n",
      "|VwZ5NDbIu3elGQI6M...|             11|\n",
      "|-fjIX9bvBKwXjQWfd...|              9|\n",
      "|r3X75SK37buS94mDl...|             12|\n",
      "|3FKIev7ZB_KE6XHL9...|             15|\n",
      "+--------------------+---------------+\n",
      "only showing top 5 rows\n",
      "\n"
     ]
    }
   ],
   "source": [
    "ss.sql(\"SELECT business_id, count(photo_id) FROM philly_photos GROUP BY business_id HAVING count(photo_id) >= 5\").show(5)"
   ]
  },
  {
   "cell_type": "code",
   "execution_count": 258,
   "metadata": {},
   "outputs": [
    {
     "name": "stdout",
     "output_type": "stream",
     "text": [
      "+--------------------+---------------+\n",
      "|         business_id|count(photo_id)|\n",
      "+--------------------+---------------+\n",
      "|mhm7pNRVZhSr3RBo9...|             37|\n",
      "|VwZ5NDbIu3elGQI6M...|             11|\n",
      "|-fjIX9bvBKwXjQWfd...|              9|\n",
      "|r3X75SK37buS94mDl...|             12|\n",
      "|3FKIev7ZB_KE6XHL9...|             15|\n",
      "+--------------------+---------------+\n",
      "only showing top 5 rows\n",
      "\n"
     ]
    }
   ],
   "source": [
    "query = \"\"\"\n",
    "        SELECT philly_photos.business_id, count(philly_photos.photo_id) \n",
    "        FROM philly_photos\n",
    "        JOIN yelp_business ON philly_photos.business_id = yelp_business.business_id\n",
    "        GROUP BY philly_photos.business_id \n",
    "         HAVING count(philly_photos.photo_id) > 5\n",
    "        \n",
    "        \"\"\"\n",
    "\n",
    "ss.sql(query).show(5)"
   ]
  },
  {
   "cell_type": "code",
   "execution_count": 259,
   "metadata": {},
   "outputs": [],
   "source": [
    "# philly_photos.select('business_id', 'photo_id').distinct().coalesce(1).write.csv('/Users/scampione/MSDS/Spring_24_2/Entrepreneurship/subset_philly_businesses_with_photos')"
   ]
  },
  {
   "cell_type": "markdown",
   "metadata": {},
   "source": [
    "Examples from images notebook"
   ]
  },
  {
   "cell_type": "code",
   "execution_count": 260,
   "metadata": {},
   "outputs": [
    {
     "name": "stdout",
     "output_type": "stream",
     "text": [
      "+------------------+\n",
      "|              name|\n",
      "+------------------+\n",
      "|Pearl's Oyster Bar|\n",
      "+------------------+\n",
      "\n"
     ]
    }
   ],
   "source": [
    "query = \"\"\" \n",
    "        SELECT name\n",
    "        FROM parquet.`/Users/scampione/MSDS/Spring_24_2/Entrepreneurship/yelp_dataset/yelp_business_df`\n",
    "        WHERE business_id = 'QtST1igZAi0q9LxJr6srIQ'\n",
    "        \"\"\"\n",
    "\n",
    "ss.sql(query).show()"
   ]
  },
  {
   "cell_type": "code",
   "execution_count": 261,
   "metadata": {},
   "outputs": [
    {
     "name": "stdout",
     "output_type": "stream",
     "text": [
      "+------------------+-----------------------------------------------------------------------+\n",
      "|name              |categories                                                             |\n",
      "+------------------+-----------------------------------------------------------------------+\n",
      "|Pearl's Oyster Bar|Restaurants, Seafood, American (New), Live/Raw Food, Breakfast & Brunch|\n",
      "+------------------+-----------------------------------------------------------------------+\n",
      "\n"
     ]
    }
   ],
   "source": [
    "df.where(\"business_id = 'QtST1igZAi0q9LxJr6srIQ'\").select('name','categories').show(truncate=False)"
   ]
  },
  {
   "cell_type": "code",
   "execution_count": 262,
   "metadata": {},
   "outputs": [
    {
     "name": "stdout",
     "output_type": "stream",
     "text": [
      "+-------------+\n",
      "|         name|\n",
      "+-------------+\n",
      "|Res Ipsa Cafe|\n",
      "+-------------+\n",
      "\n"
     ]
    }
   ],
   "source": [
    "query = \"\"\" \n",
    "        SELECT name\n",
    "        FROM parquet.`/Users/scampione/MSDS/Spring_24_2/Entrepreneurship/yelp_dataset/yelp_business_df`\n",
    "        WHERE business_id = '_qgqa4X1OiMLqub1hHaMjg'\n",
    "        \"\"\"\n",
    "\n",
    "ss.sql(query).show()"
   ]
  },
  {
   "cell_type": "code",
   "execution_count": 263,
   "metadata": {},
   "outputs": [
    {
     "name": "stdout",
     "output_type": "stream",
     "text": [
      "+-------------+--------------------+--------------------+\n",
      "|         name|          categories|            Ambience|\n",
      "+-------------+--------------------+--------------------+\n",
      "|Res Ipsa Cafe|Restaurants, Coff...|{'touristy': Fals...|\n",
      "+-------------+--------------------+--------------------+\n",
      "\n"
     ]
    }
   ],
   "source": [
    "df.where(\"business_id = '_qgqa4X1OiMLqub1hHaMjg'\").select('name','categories', 'attributes.Ambience').show()"
   ]
  },
  {
   "cell_type": "markdown",
   "metadata": {},
   "source": [
    "## Merged Philly business data and photo metadata"
   ]
  },
  {
   "cell_type": "code",
   "execution_count": 264,
   "metadata": {},
   "outputs": [
    {
     "name": "stdout",
     "output_type": "stream",
     "text": [
      "+--------------------+--------------------+-------+--------------------+\n",
      "|         business_id|             caption|  label|            photo_id|\n",
      "+--------------------+--------------------+-------+--------------------+\n",
      "|Nk-SJhPlDBkAZvfsA...|Nice rock artwork...| inside|zsvj7vloL4L5jhYyP...|\n",
      "|yVZtL5MmrpiivyCIr...|                    |outside|HCUdRJHHm_e0OCTlZ...|\n",
      "|_ab50qdWOk0DdB6XO...|      oyster shooter|  drink|vkr8T0scuJmGVvN2H...|\n",
      "|SZU9c8V2GuREDN5Kg...|       Shrimp scampi|   food|pve7D6NUrafHW3EAO...|\n",
      "|Gzur0f0XMkrVxIwYJ...|                    |   food|H52Er-uBg6rNrHcRe...|\n",
      "+--------------------+--------------------+-------+--------------------+\n",
      "only showing top 5 rows\n",
      "\n"
     ]
    }
   ],
   "source": [
    "photos_meta.show(5)"
   ]
  },
  {
   "cell_type": "code",
   "execution_count": 265,
   "metadata": {},
   "outputs": [],
   "source": [
    "ss.sql('DROP TABLE IF EXISTS business_ids_with_5_plus')\n",
    "\n",
    "business_ids_with_5_plus =ss.sql('SELECT photos_meta.business_id AS business_id  FROM photos_meta GROUP BY photos_meta.business_id  HAVING count(photos_meta.photo_id) >= 5')\n",
    "\n",
    "business_ids_with_5_plus.write.saveAsTable('business_ids_with_5_plus')"
   ]
  },
  {
   "cell_type": "code",
   "execution_count": 266,
   "metadata": {},
   "outputs": [],
   "source": [
    "query = \"\"\"\n",
    "        SELECT photos_meta.business_id AS philly_business_id, \n",
    "               photos_meta.photo_id, photos_meta.caption,  photos_meta.label,\n",
    "               philly_df.*\n",
    "        FROM philly_df\n",
    "        JOIN photos_meta        \n",
    "         ON philly_df.business_id = photos_meta.business_id\n",
    "        WHERE philly_df.business_id IN (SELECT business_id FROM business_ids_with_5_plus)\n",
    "        \"\"\"\n",
    "\n",
    "merged = ss.sql(query)"
   ]
  },
  {
   "cell_type": "code",
   "execution_count": 267,
   "metadata": {},
   "outputs": [],
   "source": [
    "ss.sql('DROP TABLE IF EXISTS merged')\n",
    "\n",
    "merged.write.saveAsTable('merged')"
   ]
  },
  {
   "cell_type": "code",
   "execution_count": 268,
   "metadata": {},
   "outputs": [],
   "source": [
    "query = \"\"\" \n",
    "        SELECT business_id, collect_list(photo_id) AS photo_ids\n",
    "        FROM merged\n",
    "        GROUP BY business_id\n",
    "        \n",
    "        \"\"\"\n",
    "\n",
    "photo_ids_by_business = ss.sql(query)"
   ]
  },
  {
   "cell_type": "code",
   "execution_count": 269,
   "metadata": {},
   "outputs": [
    {
     "name": "stdout",
     "output_type": "stream",
     "text": [
      "+--------------------+--------------------+\n",
      "|         business_id|           photo_ids|\n",
      "+--------------------+--------------------+\n",
      "|-0TffRSXXIlBYVbb5...|[eznc-C7O6FY9WDh_...|\n",
      "|-1B9pP_CrRBJYPICE...|[bg5-ER5xlOw6h6ZF...|\n",
      "|-1b2kNOowsPrPpBOK...|[C6wAPyFFL_7K9CX4...|\n",
      "|-2-ih3mE8KPyeKVIz...|[7j89K2-fBjtvmCrJ...|\n",
      "|-5Rah4ZvWsDu4oilU...|[I8CjUQWNIavQY7qV...|\n",
      "|-ATiAtTikuGuqvaW2...|[MlbUtrJPlJF7NFJU...|\n",
      "|-DGsnMlRrR_tv8avr...|[Mb0f-rLNLqC2pHVd...|\n",
      "|-FMI0_EhMjwXaAgHV...|[3enlAfQNr6s2OlhJ...|\n",
      "|-NBNpfXO_WlUJFprq...|[_WwUjpREHVVSASrz...|\n",
      "|-OIUunijjcq_ZzyyQ...|[pe1aHSdpwHwJ3yBs...|\n",
      "+--------------------+--------------------+\n",
      "only showing top 10 rows\n",
      "\n"
     ]
    }
   ],
   "source": [
    "photo_ids_by_business.show(10)"
   ]
  },
  {
   "cell_type": "code",
   "execution_count": 271,
   "metadata": {},
   "outputs": [],
   "source": [
    "# Convert the array to string using a delimiter (e.g., comma)\n",
    "photo_ids_by_business = photo_ids_by_business.withColumn(\"photo_ids\", concat_ws(\",\", col(\"photo_ids\")))\n",
    "\n",
    "# Write the DataFrame to a CSV file\n",
    "photo_ids_by_business.coalesce(1).write.csv('/Users/scampione/MSDS/Spring_24_2/Entrepreneurship/photo_ids_by_business.csv', header=True)\n"
   ]
  },
  {
   "cell_type": "markdown",
   "metadata": {},
   "source": [
    "## Make new directory for files"
   ]
  },
  {
   "cell_type": "code",
   "execution_count": 274,
   "metadata": {},
   "outputs": [],
   "source": [
    "import os\n",
    "import shutil\n",
    "\n",
    "photo_base_dir = '/Users/scampione/MSDS/Spring_24_2/Entrepreneurship/yelp_photos/photos'\n",
    "\n",
    "new_base_dir = '/Users/scampione/MSDS/Spring_24_2/Entrepreneurship/philly_business_photos'\n",
    "\n",
    "for row in photo_ids_by_business.collect():\n",
    "    business_id = row['business_id']\n",
    "    photo_ids = row['photo_ids'].split(',')  # Assuming photo_ids are comma-separated\n",
    "    photo_files = [f'{id}.jpg' for id in photo_ids]\n",
    "    \n",
    "    # Create a new subdirectory for the business\n",
    "    business_dir = os.path.join(new_base_dir, business_id)\n",
    "    os.makedirs(business_dir, exist_ok=True)\n",
    "    \n",
    "    # Copy each photo to the new subdirectory\n",
    "    for photo_file in photo_files:\n",
    "        # Construct file paths\n",
    "        source_path = os.path.join(photo_base_dir, photo_file)\n",
    "        destination_path = os.path.join(business_dir, photo_file)\n",
    "        \n",
    "        # Check if the source file exists and then copy\n",
    "        if os.path.exists(source_path):\n",
    "            shutil.copy(source_path, destination_path)\n"
   ]
  },
  {
   "cell_type": "code",
   "execution_count": 275,
   "metadata": {},
   "outputs": [],
   "source": [
    "ss.stop()"
   ]
  },
  {
   "cell_type": "markdown",
   "metadata": {},
   "source": [
    "## Get reviews for subset of Philly Restaurants"
   ]
  },
  {
   "cell_type": "code",
   "execution_count": null,
   "metadata": {},
   "outputs": [
    {
     "name": "stderr",
     "output_type": "stream",
     "text": [
      "                                                                                \r"
     ]
    }
   ],
   "source": [
    "reviews_df = ss.read.json('/Users/scampione/MSDS/Spring_24_2/Entrepreneurship/yelp_dataset/yelp_academic_dataset_review.json')"
   ]
  },
  {
   "cell_type": "code",
   "execution_count": null,
   "metadata": {},
   "outputs": [],
   "source": [
    "photo_ids_by_business = ss.read.csv('/Users/scampione/MSDS/Spring_24_2/Entrepreneurship/photo_ids_by_business.csv', inferSchema=True, header=True)"
   ]
  },
  {
   "cell_type": "code",
   "execution_count": 30,
   "metadata": {},
   "outputs": [
    {
     "data": {
      "text/plain": [
       "1307"
      ]
     },
     "execution_count": 30,
     "metadata": {},
     "output_type": "execute_result"
    }
   ],
   "source": [
    "photo_ids_by_business.count()"
   ]
  },
  {
   "cell_type": "code",
   "execution_count": 27,
   "metadata": {},
   "outputs": [
    {
     "name": "stdout",
     "output_type": "stream",
     "text": [
      "+--------------------+----+-------------------+-----+--------------------+-----+--------------------+------+--------------------+--------------------+\n",
      "|         business_id|cool|               date|funny|           review_id|stars|                text|useful|             user_id|           photo_ids|\n",
      "+--------------------+----+-------------------+-----+--------------------+-----+--------------------+------+--------------------+--------------------+\n",
      "|04UD14gamNjLY0IDY...|   1|2015-09-23 23:10:31|    2|JrIxlS1TzJ-iCu79u...|  1.0|I am a long term ...|     1|eUta8W_HdHMXPzLBB...|8LeA8ICQnDr7ndhi2...|\n",
      "|RZtGWDLCAtuipwaZ-...|   0|2009-10-14 19:57:14|    0|8JFGBuHMoiNDyfcxu...|  4.0|Good food--loved ...|     0|smOvOajNG0lS4Pq7d...|bDiREYJUr-kN1Orbc...|\n",
      "|YtSqYv1Q_pOltsVPS...|   0|2013-06-24 11:21:25|    0|oyaMhzBSwfGgemSGu...|  5.0|Tremendous servic...|     0|Dd1jQj7S-BFGqRbAp...|nk6KCQI4gnDawWoU5...|\n",
      "|oBhJuukGRqPVvYBfT...|   0|2015-03-05 03:37:54|    0|YcLXh-3UC9y6YFAI9...|  4.0|The only reason I...|     0|G0DHgkSsDozqUPWtl...|wZKCLBo0BmmW2vLP1...|\n",
      "|EtKSTHV5Qx_Q7Aur9...|   1|2009-10-14 01:15:04|    1|cvQXRFLCyr0S7EgFb...|  5.0|On a scale of one...|     3|ZGjgfSvjQK886kiTz...|8E7KcLDOwDf2x4xPk...|\n",
      "|NQSnr4RPUScss607o...|   0|2016-05-19 06:10:14|    0|mCVyppNwK2qPOJHXg...|  5.0|My brother came t...|     0|mNITUu6B2wUKBOa4N...|--lRwPamtV4WMbl3M...|\n",
      "|6LCZLGa09Qifn6rG7...|   1|2015-02-16 07:20:16|    0|dzNxNW9XpJiECE-bK...|  4.0|My go to menu is ...|     0|NUtIAX-ygn474tDg5...|sujKAT8fPlAmp7vIU...|\n",
      "|SIoCIxjn4jLt2O-4D...|   0|2015-11-18 17:47:29|    0|DWbmJF84jRrGaJRml...|  4.0|My go-to spot on ...|     0|aWlojpSpzEICTza3R...|9t9_hC-pYBImBxYfh...|\n",
      "|HTqXI5S2XcSlh_ylx...|   1|2018-03-23 14:35:33|    1|4KpIldEM-tdnrJLqY...|  5.0|I've only had the...|     1|Z5j9Xw_G0c7M2b1-i...|wXvGfjCUGWtxvwc4N...|\n",
      "|9gObo5ltOMo6UgsaX...|   0|2016-09-06 03:04:24|    0|7rCsR3SARVF3vXNiw...|  5.0|My husband and I ...|     0|mmdf_Fi-Hh_3uZN5z...|DZKjwMSQc0mQb3crb...|\n",
      "+--------------------+----+-------------------+-----+--------------------+-----+--------------------+------+--------------------+--------------------+\n",
      "only showing top 10 rows\n",
      "\n"
     ]
    }
   ],
   "source": [
    "photo_ids_by_business = photo_ids_by_business.withColumn(\"business_id\", photo_ids_by_business[\"business_id\"].cast(\"string\"))\n",
    "reviews_df = reviews_df.withColumn(\"business_id\", reviews_df[\"business_id\"].cast(\"string\"))\n",
    "\n",
    "# Perform an inner join to filter reviews for businesses with 5+ photos\n",
    "reviews_with_photos = reviews_df.join(photo_ids_by_business, \"business_id\", \"inner\")\n",
    "\n",
    "# Show the filtered DataFrame\n",
    "reviews_with_photos.show(10)"
   ]
  },
  {
   "cell_type": "code",
   "execution_count": 31,
   "metadata": {},
   "outputs": [
    {
     "name": "stderr",
     "output_type": "stream",
     "text": [
      "                                                                                \r"
     ]
    },
    {
     "data": {
      "text/plain": [
       "427057"
      ]
     },
     "execution_count": 31,
     "metadata": {},
     "output_type": "execute_result"
    }
   ],
   "source": [
    "# Number of reviews for Philly Restaurants and Bars\n",
    "reviews_with_photos.count()"
   ]
  },
  {
   "cell_type": "code",
   "execution_count": 44,
   "metadata": {},
   "outputs": [
    {
     "name": "stderr",
     "output_type": "stream",
     "text": [
      "[Stage 64:==============================================>         (33 + 7) / 40]\r"
     ]
    },
    {
     "name": "stdout",
     "output_type": "stream",
     "text": [
      "+----------------------+-------------+\n",
      "|business_id           |count_reviews|\n",
      "+----------------------+-------------+\n",
      "|ytynqOUb3hjKeJfRj5Tshw|5778         |\n",
      "|PP3BBaVxZLcJU54uP_wL6Q|4293         |\n",
      "|IkY2ticzHEn4QFn8hQLSWg|3428         |\n",
      "|9PZxjhTIU7OgPIzuGi89Ew|3264         |\n",
      "|ctHjyadbDQAtUFfkcAFEHw|3173         |\n",
      "|6ajnOk0GcY9xbb5Ocaw8Gw|2974         |\n",
      "|j-qtdD55OLfSqfsWuQTDJg|2884         |\n",
      "|AGlh4ZDv6jnoiYfz7At9mw|2778         |\n",
      "|sTPueJEwcRDj7ZJmG7okYA|2769         |\n",
      "|0RuvlgTnKFbX3IK0ZOOocA|2733         |\n",
      "|RQAF6a0akMiot5lZZnMNNw|2725         |\n",
      "|8pqdJjefYq-a9IBSJJmKwA|2577         |\n",
      "|ntiIq1FNqduOyyowMFGh5A|2255         |\n",
      "|IWHdx0NhDKADkGOgXgOFKQ|2245         |\n",
      "|OdIBX09glfXNVSyd0RnIeg|2241         |\n",
      "|S8ZFYEgMejpChID8tzKo9A|2162         |\n",
      "|kZ1q0K13tFYG_ZJrVvsJHA|2076         |\n",
      "|i_FWONQD1ZBqrNE2b-M5Ug|1964         |\n",
      "|q-zV08jt6U-q05SMEuQJAQ|1952         |\n",
      "|6_T2xzR74JqGCTPefAD8Tw|1943         |\n",
      "+----------------------+-------------+\n",
      "only showing top 20 rows\n",
      "\n"
     ]
    },
    {
     "name": "stderr",
     "output_type": "stream",
     "text": [
      "                                                                                \r"
     ]
    }
   ],
   "source": [
    "reviews_with_photos.groupBy('business_id').agg(count('review_id').alias('count_reviews')).sort('count_reviews',ascending=False).show(truncate=False)"
   ]
  },
  {
   "cell_type": "code",
   "execution_count": 49,
   "metadata": {},
   "outputs": [],
   "source": [
    "df = ss.read.json(\"/Users/scampione/MSDS/Spring_24_2/Entrepreneurship/yelp_dataset/yelp_academic_dataset_business.json\")"
   ]
  },
  {
   "cell_type": "code",
   "execution_count": 80,
   "metadata": {},
   "outputs": [
    {
     "name": "stdout",
     "output_type": "stream",
     "text": [
      "+-----+----------------------------------------------------------------------------------------------------+\n",
      "|name |categories                                                                                          |\n",
      "+-----+----------------------------------------------------------------------------------------------------+\n",
      "|Zahav|Nightlife, Bars, Food, Ethnic Food, Middle Eastern, Vegetarian, Specialty Food, Israeli, Restaurants|\n",
      "+-----+----------------------------------------------------------------------------------------------------+\n",
      "\n"
     ]
    }
   ],
   "source": [
    "df.select('name', 'categories').where(\"business_id = 'ctHjyadbDQAtUFfkcAFEHw'\").show(truncate=False)"
   ]
  },
  {
   "cell_type": "code",
   "execution_count": 81,
   "metadata": {},
   "outputs": [],
   "source": [
    "five_reivews_for_PP3BBaVxZLcJU54uP_wL6Q = reviews_with_photos.select('text').where(\"business_id = 'ctHjyadbDQAtUFfkcAFEHw'\")"
   ]
  },
  {
   "cell_type": "code",
   "execution_count": 82,
   "metadata": {},
   "outputs": [
    {
     "name": "stderr",
     "output_type": "stream",
     "text": [
      "                                                                                \r"
     ]
    }
   ],
   "source": [
    "texts = five_reivews_for_PP3BBaVxZLcJU54uP_wL6Q.collect()"
   ]
  },
  {
   "cell_type": "code",
   "execution_count": 73,
   "metadata": {},
   "outputs": [],
   "source": [
    "def clean_text(text):\n",
    "    text = text.replace(\"\\\\'\", \"'\")\n",
    "    text = text.replace(\"\\n\", \" \")\n",
    "    text = re.sub(r\"[^a-zA-Z0-9.,'?!;: ]\", \"\", text)\n",
    "    text = re.sub(r\"\\s+\", \" \", text)\n",
    "    text = text.lower()    \n",
    "    return text\n"
   ]
  },
  {
   "cell_type": "code",
   "execution_count": 83,
   "metadata": {},
   "outputs": [
    {
     "name": "stdout",
     "output_type": "stream",
     "text": [
      "date night with girlfriend here was perfect. i wouldn't say im so much a foodie but i love to eat good food. 9:45 reservation, walked right to our table. exceptional service from start to finish. jeff was our server he was great. we both did the 39 plan and we started with humus tahani and the most amazing phenomenal soft warm pita bread. next we each chose 2 small plates fried broccoli, cucumber and yogurt, short rips and potatoes which melted in my mouth, and chicken pastilla! they were perfect and filling. they also served us side mediterterannean salad items carrots, zucchini, etc lamb and beef kofte followed these. incredible and the most amazing flourless frozen almond chocolate cake and some kind of amazing ice cream.... well basically, im a 25 year old student and it was a pleasure spending 122 on a fantastic meal in an incredible atmosphere with a pretty ambiance with above average service. would most definitely recommend\n"
     ]
    }
   ],
   "source": [
    "cleaned_text = clean_text(texts[0][0])\n",
    "print(cleaned_text)\n"
   ]
  },
  {
   "cell_type": "code",
   "execution_count": 84,
   "metadata": {},
   "outputs": [],
   "source": [
    "ss.stop()"
   ]
  },
  {
   "cell_type": "markdown",
   "metadata": {},
   "source": [
    "Get top 20 sorted by num top_stars/review_counts"
   ]
  },
  {
   "cell_type": "code",
   "execution_count": null,
   "metadata": {},
   "outputs": [],
   "source": []
  }
 ],
 "metadata": {
  "kernelspec": {
   "display_name": "DistributedComputing",
   "language": "python",
   "name": "python3"
  },
  "language_info": {
   "codemirror_mode": {
    "name": "ipython",
    "version": 3
   },
   "file_extension": ".py",
   "mimetype": "text/x-python",
   "name": "python",
   "nbconvert_exporter": "python",
   "pygments_lexer": "ipython3",
   "version": "3.8.18"
  }
 },
 "nbformat": 4,
 "nbformat_minor": 2
}
