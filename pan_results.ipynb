{
 "cells": [
  {
   "cell_type": "markdown",
   "metadata": {},
   "source": [
    "# Pan"
   ]
  },
  {
   "cell_type": "markdown",
   "metadata": {},
   "source": [
    "## (1) Database Creation"
   ]
  },
  {
   "cell_type": "code",
   "execution_count": 1,
   "metadata": {},
   "outputs": [],
   "source": [
    "from pyspark.sql import SparkSession\n",
    "from pyspark import SparkContext\n",
    "from pyspark.sql.functions import explode, split, col, concat_ws, count\n",
    "import pyspark.sql.functions as F\n",
    "import os\n",
    "import shutil"
   ]
  },
  {
   "cell_type": "code",
   "execution_count": 2,
   "metadata": {},
   "outputs": [
    {
     "name": "stderr",
     "output_type": "stream",
     "text": [
      "Setting default log level to \"WARN\".\n",
      "To adjust logging level use sc.setLogLevel(newLevel). For SparkR, use setLogLevel(newLevel).\n",
      "24/04/16 12:38:56 WARN NativeCodeLoader: Unable to load native-hadoop library for your platform... using builtin-java classes where applicable\n"
     ]
    }
   ],
   "source": [
    "ss = SparkSession.builder \\\n",
    "    .appName(\"Pan\") \\\n",
    "    .config(\"spark.driver.bindAddress\", \"localhost\") \\\n",
    "    .getOrCreate()"
   ]
  },
  {
   "cell_type": "code",
   "execution_count": 3,
   "metadata": {},
   "outputs": [
    {
     "name": "stderr",
     "output_type": "stream",
     "text": [
      "24/04/16 12:39:09 WARN package: Truncated the string representation of a plan since it was too large. This behavior can be adjusted by setting 'spark.sql.debug.maxToStringFields'.\n"
     ]
    }
   ],
   "source": [
    "# Read data from Yelp business JSON\n",
    "businesses_df = ss.read.json(\"../yelp_dataset/yelp_academic_dataset_business.json\")\n",
    "\n",
    "# Create a temporary view\n",
    "businesses_df.createOrReplaceTempView(\"businesses\")"
   ]
  },
  {
   "cell_type": "code",
   "execution_count": 4,
   "metadata": {},
   "outputs": [
    {
     "name": "stderr",
     "output_type": "stream",
     "text": [
      "                                                                                \r"
     ]
    }
   ],
   "source": [
    "# Read data from Yelp photos metadata JSON\n",
    "photos_meta = ss.read.json('../yelp_photos/photos.json')\n",
    "\n",
    "# Create a temporary view\n",
    "photos_meta.createOrReplaceTempView(\"photos_metadata\")"
   ]
  },
  {
   "cell_type": "code",
   "execution_count": 5,
   "metadata": {},
   "outputs": [
    {
     "name": "stderr",
     "output_type": "stream",
     "text": [
      "                                                                                \r"
     ]
    }
   ],
   "source": [
    "# Read data from Yelp review JSON\n",
    "reviews_df = ss.read.json(\"../yelp_dataset/yelp_academic_dataset_review.json\")\n",
    "\n",
    "# Create a temporary view\n",
    "reviews_df.createOrReplaceTempView(\"reviews\")"
   ]
  },
  {
   "cell_type": "markdown",
   "metadata": {},
   "source": [
    "We will subset the data to just restaurants and bars in Philadelphia, the city with highest count of businesses."
   ]
  },
  {
   "cell_type": "code",
   "execution_count": 6,
   "metadata": {},
   "outputs": [],
   "source": [
    "query = \"\"\"\n",
    "        SELECT *\n",
    "        FROM businesses\n",
    "        WHERE city = 'Philadelphia' \n",
    "         AND (categories LIKE '%Restaurant%' OR categories LIKE '%Bar%') AND categories NOT LIKE '%Barbers%'\n",
    "        \"\"\"\n",
    "\n",
    "philly_restaurant_bar_df = ss.sql(query)\n",
    "\n",
    "# Create a temporary view\n",
    "philly_restaurant_bar_df.createOrReplaceTempView(\"philly_restaurants_bars\")"
   ]
  },
  {
   "cell_type": "markdown",
   "metadata": {},
   "source": [
    "Let's get just restaurants and bars in Philadelphia with at least one photo."
   ]
  },
  {
   "cell_type": "code",
   "execution_count": 7,
   "metadata": {},
   "outputs": [],
   "source": [
    "query = \"\"\"\n",
    "        SELECT business_id, count(photo_id) AS photos_count\n",
    "        FROM photos_metadata\n",
    "        GROUP BY business_id HAVING count(photo_id) > 1\n",
    "        ORDER BY photos_count DESC\n",
    "        \"\"\"\n",
    "\n",
    "df2 = ss.sql(query)\n",
    "\n",
    "df2.createOrReplaceTempView(\"temp_df_photos\")"
   ]
  },
  {
   "cell_type": "code",
   "execution_count": 11,
   "metadata": {},
   "outputs": [
    {
     "name": "stderr",
     "output_type": "stream",
     "text": [
      "                                                                                \r"
     ]
    }
   ],
   "source": [
    "query = \"\"\"\n",
    "        SELECT businesss.*, photo.photos_count\n",
    "        FROM philly_restaurants_bars AS businesss\n",
    "        JOIN temp_df_photos AS photo \n",
    "         ON businesss.business_id = photo.business_id\n",
    "        \"\"\"\n",
    "\n",
    "philly_restaurants_bars_1_photo = ss.sql(query)\n",
    "philly_restaurants_bars_1_photo.count()\n",
    "\n",
    "philly_restaurants_bars_1_photo.createOrReplaceTempView(\"philly_restaurants_bars_1_photo\")"
   ]
  },
  {
   "cell_type": "markdown",
   "metadata": {},
   "source": [
    "Now to take a look at the nested fields inside 'attributes'."
   ]
  },
  {
   "cell_type": "code",
   "execution_count": 13,
   "metadata": {},
   "outputs": [],
   "source": [
    "# Extract Ambience field\n",
    "\n",
    "query = \"\"\"\n",
    "        SELECT *,\n",
    "               get_json_object(replace(replace(replace(attributes.Ambience, \"'\", '\"'), 'False', 'false'), 'True', 'true'), '$.touristy') AS Touristy,\n",
    "               get_json_object(replace(replace(replace(attributes.Ambience, \"'\", '\"'), 'False', 'false'), 'True', 'true'), '$.hipster') AS Hipster,\n",
    "               get_json_object(replace(replace(replace(attributes.Ambience, \"'\", '\"'), 'False', 'false'), 'True', 'true'), '$.romantic') AS Romantic,\n",
    "               get_json_object(replace(replace(replace(attributes.Ambience, \"'\", '\"'), 'False', 'false'), 'True', 'true'), '$.divey') AS Divey,\n",
    "               get_json_object(replace(replace(replace(attributes.Ambience, \"'\", '\"'), 'False', 'false'), 'True', 'true'), '$.intimate') AS Intimate,\n",
    "               get_json_object(replace(replace(replace(attributes.Ambience, \"'\", '\"'), 'False', 'false'), 'True', 'true'), '$.trendy') AS Trendy,\n",
    "               get_json_object(replace(replace(replace(attributes.Ambience, \"'\", '\"'), 'False', 'false'), 'True', 'true'), '$.upscale') AS Upscale,\n",
    "               get_json_object(replace(replace(replace(attributes.Ambience, \"'\", '\"'), 'False', 'false'), 'True', 'true'), '$.classy') AS Classy,\n",
    "               get_json_object(replace(replace(replace(attributes.Ambience, \"'\", '\"'), 'False', 'false'), 'True', 'true'), '$.casual') AS Casual\n",
    "        FROM philly_restaurants_bars_1_photo\n",
    "        \"\"\"\n",
    "\n",
    "ambience_expanded = ss.sql(query)\n",
    "\n",
    "ambience_expanded.createOrReplaceTempView(\"ambience_expanded\")"
   ]
  },
  {
   "cell_type": "code",
   "execution_count": 14,
   "metadata": {},
   "outputs": [
    {
     "name": "stderr",
     "output_type": "stream",
     "text": [
      "                                                                                \r"
     ]
    },
    {
     "name": "stdout",
     "output_type": "stream",
     "text": [
      "+----------+-----------+-----------+--------------+\n",
      "|Good4Lunch|Good4Dinner|Good4Brunch|Good4Breakfast|\n",
      "+----------+-----------+-----------+--------------+\n",
      "|null      |null       |null       |null          |\n",
      "|null      |null       |null       |null          |\n",
      "|true      |false      |true       |true          |\n",
      "|true      |true       |false      |false         |\n",
      "|false     |false      |false      |false         |\n",
      "+----------+-----------+-----------+--------------+\n",
      "only showing top 5 rows\n",
      "\n"
     ]
    }
   ],
   "source": [
    "# Look into Good4Meal field\n",
    "\n",
    "query = \"\"\"\n",
    "        SELECT \n",
    "        get_json_object(replace(replace(replace(attributes.GoodForMeal, \"'\", '\"'), 'False', 'false'), 'True', 'true'), '$.lunch') AS Good4Lunch,\n",
    "        get_json_object(replace(replace(replace(attributes.GoodForMeal, \"'\", '\"'), 'False', 'false'), 'True', 'true'), '$.dinner') AS Good4Dinner,\n",
    "        get_json_object(replace(replace(replace(attributes.GoodForMeal, \"'\", '\"'), 'False', 'false'), 'True', 'true'), '$.brunch') AS Good4Brunch,\n",
    "        get_json_object(replace(replace(replace(attributes.GoodForMeal, \"'\", '\"'), 'False', 'false'), 'True', 'true'), '$.breakfast') AS Good4Breakfast\n",
    "        FROM ambience_expanded\n",
    "        \"\"\"\n",
    "\n",
    "ss.sql(query).show(5,truncate=False)"
   ]
  },
  {
   "cell_type": "markdown",
   "metadata": {},
   "source": [
    "Let's add reviews in reviews data. We want to extract number of reviews containing text like 'romantic', 'good for kids', 'rooftop', 'skyline', etc. to improve our suggestions for each vibe category."
   ]
  },
  {
   "cell_type": "code",
   "execution_count": 15,
   "metadata": {},
   "outputs": [],
   "source": [
    "query = \"\"\"\n",
    "        SELECT *\n",
    "        FROM reviews\n",
    "        WHERE business_id IN (SELECT business_id FROM philly_restaurants_bars_1_photo)\n",
    "        \"\"\"\n",
    "\n",
    "reviews_philly_1_photo = ss.sql(query)"
   ]
  },
  {
   "cell_type": "code",
   "execution_count": 16,
   "metadata": {},
   "outputs": [],
   "source": [
    "query = \"\"\"\n",
    "        SELECT ambience_expanded.*, sub.romantic_reviews\n",
    "        FROM (\n",
    "            SELECT business_id, count(*) AS romantic_reviews\n",
    "            FROM reviews\n",
    "            WHERE business_id IN (SELECT business_id FROM philly_restaurants_bars_1_photo)\n",
    "            AND text LIKE '%romantic%'\n",
    "            GROUP BY business_id             \n",
    "            ) AS sub\n",
    "        RIGHT JOIN ambience_expanded ON sub.business_id = ambience_expanded.business_id\n",
    "        \"\"\"\n",
    "\n",
    "romantic = ss.sql(query)\n",
    "\n",
    "romantic.createOrReplaceTempView('added_romantic')"
   ]
  },
  {
   "cell_type": "code",
   "execution_count": 17,
   "metadata": {},
   "outputs": [],
   "source": [
    "query = \"\"\"\n",
    "        SELECT added_romantic.*, sub.date_night_reviews\n",
    "        FROM (\n",
    "            SELECT business_id, count(*) AS date_night_reviews\n",
    "            FROM reviews\n",
    "            WHERE business_id IN (SELECT business_id FROM philly_restaurants_bars_1_photo)\n",
    "            AND text LIKE '%date night%'\n",
    "            GROUP BY business_id             \n",
    "            ) AS sub\n",
    "        RIGHT JOIN added_romantic ON sub.business_id = added_romantic.business_id\n",
    "        \"\"\"\n",
    "\n",
    "date_night = ss.sql(query)\n",
    "date_night.createOrReplaceTempView('added_date_night')"
   ]
  },
  {
   "cell_type": "code",
   "execution_count": 18,
   "metadata": {},
   "outputs": [],
   "source": [
    "query = \"\"\"\n",
    "        SELECT added_date_night.*, sub.family_friendly_reviews\n",
    "        FROM (\n",
    "            SELECT business_id, count(*) AS family_friendly_reviews\n",
    "            FROM reviews\n",
    "            WHERE business_id IN (SELECT business_id FROM philly_restaurants_bars_1_photo)\n",
    "            AND (text LIKE '%good for kids%' OR text LIKE '%family friendly%' OR text LIKE '%kids menu%')\n",
    "            GROUP BY business_id             \n",
    "            ) AS sub\n",
    "        RIGHT JOIN added_date_night ON sub.business_id = added_date_night.business_id\n",
    "        ORDER BY sub.family_friendly_reviews DESC\n",
    "        \"\"\"\n",
    "\n",
    "family_friendly = ss.sql(query)\n",
    "family_friendly.createOrReplaceTempView('added_family_friendly')"
   ]
  },
  {
   "cell_type": "code",
   "execution_count": 19,
   "metadata": {},
   "outputs": [],
   "source": [
    "query = \"\"\"\n",
    "        SELECT added_family_friendly.*, sub.rooftop_skyline_reviews\n",
    "        FROM (\n",
    "            SELECT business_id, count(*) AS rooftop_skyline_reviews\n",
    "            FROM reviews\n",
    "            WHERE business_id IN (SELECT business_id FROM philly_restaurants_bars_1_photo)\n",
    "            AND (text LIKE '%rooftop%' OR text LIKE '%skyline%' OR text LIKE '%Rooftop%' OR text LIKE '%Skyline%')\n",
    "            GROUP BY business_id             \n",
    "            ) AS sub\n",
    "        RIGHT JOIN added_family_friendly ON sub.business_id = added_family_friendly.business_id\n",
    "        ORDER BY sub.rooftop_skyline_reviews DESC\n",
    "        \"\"\"\n",
    "\n",
    "rooftop_skyline = ss.sql(query)\n",
    "rooftop_skyline.createOrReplaceTempView('added_rooftop_skyline')"
   ]
  },
  {
   "cell_type": "code",
   "execution_count": 20,
   "metadata": {},
   "outputs": [
    {
     "name": "stderr",
     "output_type": "stream",
     "text": [
      "                                                                                \r"
     ]
    }
   ],
   "source": [
    "rooftop_skyline.write.saveAsTable('philly_df_extracted_keywords')"
   ]
  },
  {
   "cell_type": "markdown",
   "metadata": {},
   "source": [
    "## (2) Filtering Database for Vibe Matches\n",
    "\n",
    "**Vibes**:\n",
    "- Coworking Cafe\n",
    "- Brunch\n",
    "- Green\n",
    "- Local Delicacies\n",
    "- Romantic/Date Night\n",
    "- Upscale/Special Occassion\n",
    "- Family-Friendly\n",
    "- Rooftop\n",
    "- Budget\n",
    "\n",
    "Want to integrate zero-shot-classification on the image data:\n",
    "- \"productive cafe with people working\" (Coworking Cafe)\n",
    "- \"healthy green food\" (Green)\n",
    "- \"formal dinner\" (Upscale/Special Occassion)\n",
    "- \"rooftop views\" (Rooftop)\n"
   ]
  },
  {
   "cell_type": "code",
   "execution_count": 146,
   "metadata": {},
   "outputs": [
    {
     "name": "stdout",
     "output_type": "stream",
     "text": [
      "Coworking\n",
      "+------------------------+----------------------+-----+\n",
      "|name                    |business_id           |stars|\n",
      "+------------------------+----------------------+-----+\n",
      "|Cafe La Maude           |K7KHmHzxNwzqiijSJeKe_A|4.5  |\n",
      "|Miles Table             |lWedWkinrM5j13pyimbpbA|4.5  |\n",
      "|Middle Child            |OAWa1WML2V1ZLJGD6V3nBQ|4.5  |\n",
      "|Café y Chocolate        |qaDImxPguQz0jToNYvB1Eg|4.5  |\n",
      "|Talula's Daily          |EreYgrQPuR7Sk_FKeZZg9g|4.5  |\n",
      "|Grindcore House         |9A5Gw0At6so0x-vWM0_JZw|4.5  |\n",
      "|Nook Bakery & Coffee Bar|e4MoozYGqe_rb4_ZC1rYMQ|4.5  |\n",
      "|Soy Cafe                |MM_v-KIUJiXLCxnkIqPKWA|4.5  |\n",
      "|Hinge Cafe              |zjTBfbvbN2Ps6_Ar0w-fuQ|4.5  |\n",
      "|So Crepe                |Z5b1Me1YBZGQAxIx62vmqg|4.5  |\n",
      "+------------------------+----------------------+-----+\n",
      "only showing top 10 rows\n",
      "\n"
     ]
    },
    {
     "data": {
      "text/plain": [
       "73"
      ]
     },
     "execution_count": 146,
     "metadata": {},
     "output_type": "execute_result"
    }
   ],
   "source": [
    "# Coworking Cafe\n",
    "# want to add zero-shot-score (eg \"productive cafe with people working\")\n",
    "\n",
    "query = \"\"\"\n",
    "        SELECT name, business_id, stars\n",
    "        FROM philly_df_extracted_keywords\n",
    "        WHERE Casual = 'true' AND attributes.WiFi LIKE '%free%'\n",
    "         AND (categories LIKE '%Cafes%' OR categories LIKE '%Coffee%')\n",
    "         AND get_json_object(replace(replace(replace(attributes.GoodForMeal, \"'\", '\"'), 'False', 'false'), 'True', 'true'), '$.dinner') = 'false'\n",
    "        \"\"\"\n",
    "\n",
    "coworking_df = ss.sql(query).orderBy(F.desc('stars'), F.desc('review_count'))\n",
    "print(\"Coworking\")\n",
    "coworking_df.show(10, truncate=False)\n",
    "coworking_df.count()"
   ]
  },
  {
   "cell_type": "code",
   "execution_count": 147,
   "metadata": {},
   "outputs": [
    {
     "name": "stdout",
     "output_type": "stream",
     "text": [
      "Brunch\n",
      "+--------------------+----------------------+-----+\n",
      "|name                |business_id           |stars|\n",
      "+--------------------+----------------------+-----+\n",
      "|Suraya              |vUrTGX_7HxqeoQ_6QCVz6g|4.5  |\n",
      "|V Street            |E_h2yNoagLK-3ODYwMPErw|4.5  |\n",
      "|La Colombe Coffee   |MlXH9dWYDFEBbwuGStlfZg|4.5  |\n",
      "|Bar Hygge           |Mwc3n5Psw9wRaQ22vZWDYQ|4.5  |\n",
      "|Talula's Daily      |EreYgrQPuR7Sk_FKeZZg9g|4.5  |\n",
      "|Knead Bagels        |wocwfwSFrNfYJRyfYSi1Cw|4.5  |\n",
      "|The Bakeshop on 20th|zujdPV3HT-Y-CKE1GgkMHQ|4.5  |\n",
      "|Stockyard Sandwich  |B6Cn6maWQ6sLhLwYGLhSlg|4.5  |\n",
      "|The Rooster         |-sTrihdzACrsOSu1FYdfxQ|4.5  |\n",
      "|Girard Bruncherie   |VbGGpt-Q5ZeMxSFPDbPeBg|4.5  |\n",
      "+--------------------+----------------------+-----+\n",
      "only showing top 10 rows\n",
      "\n"
     ]
    },
    {
     "data": {
      "text/plain": [
       "52"
      ]
     },
     "execution_count": 147,
     "metadata": {},
     "output_type": "execute_result"
    }
   ],
   "source": [
    "# Brunch\n",
    "\n",
    "query = \"\"\"\n",
    "        SELECT name, business_id, stars\n",
    "        FROM philly_df_extracted_keywords\n",
    "        WHERE Trendy = 'true'\n",
    "         AND (categories LIKE '%Brunch%' OR get_json_object(replace(replace(replace(attributes.GoodForMeal, \"'\", '\"'), 'False', 'false'), 'True', 'true'), '$.brunch') = 'true')\n",
    "        \"\"\"\n",
    "\n",
    "brunch_df = ss.sql(query).orderBy(F.desc('stars'), F.desc('review_count'))\n",
    "print(\"Brunch\")\n",
    "brunch_df.show(10, truncate=False)\n",
    "brunch_df.count()"
   ]
  },
  {
   "cell_type": "code",
   "execution_count": 148,
   "metadata": {},
   "outputs": [
    {
     "name": "stdout",
     "output_type": "stream",
     "text": [
      "Green\n",
      "+---------------------------+----------------------+-----+\n",
      "|name                       |business_id           |stars|\n",
      "+---------------------------+----------------------+-----+\n",
      "|Grindcore House            |9A5Gw0At6so0x-vWM0_JZw|4.5  |\n",
      "|Soy Cafe                   |MM_v-KIUJiXLCxnkIqPKWA|4.5  |\n",
      "|Hummusology                |-wwhD6SwDOJZlbZkHlIchQ|4.5  |\n",
      "|HipCityVeg                 |gczLFZVmpfsBB3uUHEbWiA|4.5  |\n",
      "|PlantPure Cafe             |rQKL-bO8Xup4gCPcj_oz6w|4.5  |\n",
      "|Jerry's Kitchen            |CyZrPCmQqMbXdD6SX02f6w|4.5  |\n",
      "|New Delhi Indian Restaurant|YN4Kk751tmdvoarGo8z7_A|4.0  |\n",
      "|P S & Co                   |phsLOuBeiYI43hglvWK96Q|4.0  |\n",
      "|Hiro Ramen House           |_34KJPR-T0HP9USJw1nCfw|4.0  |\n",
      "|Su Xing House              |PVVFos1LDfD7iETY0w4vaA|4.0  |\n",
      "+---------------------------+----------------------+-----+\n",
      "only showing top 10 rows\n",
      "\n"
     ]
    },
    {
     "data": {
      "text/plain": [
       "21"
      ]
     },
     "execution_count": 148,
     "metadata": {},
     "output_type": "execute_result"
    }
   ],
   "source": [
    "# Green\n",
    "# want to add zero-shot-score (eg \"healthy green food\")\n",
    "\n",
    "query = \"\"\"\n",
    "        SELECT name, business_id, stars\n",
    "        FROM philly_df_extracted_keywords\n",
    "        WHERE categories LIKE '%Vegetarian%' AND categories LIKE '%Vegan%'\n",
    "         AND get_json_object(replace(replace(replace(attributes.GoodForMeal, \"'\", '\"'), 'False', 'false'), 'True', 'true'), '$.lunch') = 'true'\n",
    "        \"\"\"\n",
    "\n",
    "green_df = ss.sql(query).orderBy(F.desc('stars'), F.desc('review_count'))\n",
    "print(\"Green\")\n",
    "green_df.show(10, truncate=False)\n",
    "green_df.count()"
   ]
  },
  {
   "cell_type": "code",
   "execution_count": 149,
   "metadata": {},
   "outputs": [
    {
     "name": "stdout",
     "output_type": "stream",
     "text": [
      "Local Delicacies\n",
      "+------------------------+----------------------+-----+\n",
      "|name                    |business_id           |stars|\n",
      "+------------------------+----------------------+-----+\n",
      "|Reading Terminal Market |ytynqOUb3hjKeJfRj5Tshw|4.5  |\n",
      "|John's Roast Pork       |LM54ufrINJWoTN5imV8Etw|4.5  |\n",
      "|Saad's Halal Restaurant |6_LnAQQ0-mml8YgpfRjGuA|4.5  |\n",
      "|Oh Brother Philly       |7pAgxBMUjrVPH7xh3fn-gw|4.5  |\n",
      "|Joe's Steaks + Soda Shop|kkcQYuF3w5iHnHMf0EnRhQ|4.5  |\n",
      "|Woodrow's Sandwich Shop |Jn4tRtjIuz6MBCykQySpeg|4.5  |\n",
      "|SPOT Gourmet Burgers    |Gw7UW0E2BguzL9suQnwDeg|4.5  |\n",
      "|Gooey Looie's           |9ggTidLF9LPNdyWdCGtrYg|4.5  |\n",
      "|McNally's Tavern        |ZPFdJgzPjEUM6BoFfoV-ZA|4.5  |\n",
      "|The Original Turkey     |lQTdARrqdKMAcDp1PWpQ9A|4.5  |\n",
      "+------------------------+----------------------+-----+\n",
      "only showing top 10 rows\n",
      "\n"
     ]
    },
    {
     "data": {
      "text/plain": [
       "99"
      ]
     },
     "execution_count": 149,
     "metadata": {},
     "output_type": "execute_result"
    }
   ],
   "source": [
    "# Local Delicacies\n",
    "\n",
    "query = \"\"\"\n",
    "        SELECT name, business_id, stars\n",
    "        FROM philly_df_extracted_keywords\n",
    "        WHERE (Touristy = 'true' OR categories LIKE '%Cheesesteak%' OR name LIKE '%Philadelphia%')\n",
    "         AND attributes.GoodForMeal != 'null'\n",
    "        ORDER BY stars DESC, review_count DESC\n",
    "        \"\"\"\n",
    "\n",
    "local_delicacies_df = ss.sql(query).orderBy(F.desc('stars'), F.desc('review_count'))\n",
    "print(\"Local Delicacies\")\n",
    "local_delicacies_df.show(10, truncate=False)\n",
    "local_delicacies_df.count()"
   ]
  },
  {
   "cell_type": "code",
   "execution_count": 150,
   "metadata": {},
   "outputs": [
    {
     "name": "stdout",
     "output_type": "stream",
     "text": [
      "Date Night\n",
      "+---------------------+----------------------+-----+\n",
      "|name                 |business_id           |stars|\n",
      "+---------------------+----------------------+-----+\n",
      "|Talula's Garden      |i_FWONQD1ZBqrNE2b-M5Ug|4.5  |\n",
      "|Double Knot          |Ipkx4Sa7ybn8C6LtTqTztw|4.5  |\n",
      "|Suraya               |vUrTGX_7HxqeoQ_6QCVz6g|4.5  |\n",
      "|Fat Salmon           |h7TO_IsmLCYmKKDVOOIeFw|4.5  |\n",
      "|Tria Cafe Rittenhouse|eJaeTZlIdM3HWCq__Ve4Wg|4.5  |\n",
      "|Tria Cafe Wash West  |Q-prSTdggNlxAEFV88BZOw|4.5  |\n",
      "|V Street             |E_h2yNoagLK-3ODYwMPErw|4.5  |\n",
      "|Dizengoff            |JVDHxMnKjif8XdXVFWiClg|4.5  |\n",
      "|Abe Fisher           |vhDWGF-8BfsxvS7Zo5Wv2w|4.5  |\n",
      "|Bistrot La Minette   |4_-IcMpkF_sBRHomWZHNzA|4.5  |\n",
      "+---------------------+----------------------+-----+\n",
      "only showing top 10 rows\n",
      "\n"
     ]
    },
    {
     "data": {
      "text/plain": [
       "197"
      ]
     },
     "execution_count": 150,
     "metadata": {},
     "output_type": "execute_result"
    }
   ],
   "source": [
    "# Romantic/Date Night\n",
    "\n",
    "query = \"\"\"\n",
    "        SELECT name, business_id, stars\n",
    "        FROM philly_df_extracted_keywords\n",
    "        WHERE (attributes.RestaurantsPriceRange2 = 2 OR attributes.RestaurantsPriceRange2 = 3)\n",
    "         AND (Romantic = 'true' OR Trendy = 'true')\n",
    "        \"\"\"\n",
    "\n",
    "romantic_date_night_df = ss.sql(query).orderBy(F.desc('stars'), F.desc('review_count'), F.desc('romantic_reviews'))\n",
    "print(\"Date Night\")\n",
    "romantic_date_night_df.show(10, truncate=False)\n",
    "romantic_date_night_df.count()"
   ]
  },
  {
   "cell_type": "code",
   "execution_count": 152,
   "metadata": {},
   "outputs": [
    {
     "name": "stdout",
     "output_type": "stream",
     "text": [
      "Special Occassion\n",
      "+-------------------------------------+----------------------+-----+\n",
      "|name                                 |business_id           |stars|\n",
      "+-------------------------------------+----------------------+-----+\n",
      "|Zahav                                |ctHjyadbDQAtUFfkcAFEHw|4.5  |\n",
      "|Morimoto                             |6_T2xzR74JqGCTPefAD8Tw|4.5  |\n",
      "|Butcher and Singer                   |0oSSjekU-3GR8gselReWnA|4.5  |\n",
      "|Barclay Prime                        |wbDRmtxaKRpBOjutvV6TEA|4.5  |\n",
      "|Vetri Cucina                         |wUnLSg_GKfEIQ5CQQ770_g|4.5  |\n",
      "|Lacroix Restaurant at The Rittenhouse|e3Y3hDpwHc9RmQlJtIgHuw|4.5  |\n",
      "|Laurel                               |fEqiXG_B-fn__w0aeF3nBQ|4.5  |\n",
      "|Friday Saturday Sunday               |C9UylQTOh7uwZo4a7QhLyg|4.5  |\n",
      "|Bar 210                              |N2j1caPRBMk34IEKqtGLSA|4.5  |\n",
      "|Fogo de Chao                         |cGX-1IUwXOjkUqZbkKYcjw|4.0  |\n",
      "+-------------------------------------+----------------------+-----+\n",
      "only showing top 10 rows\n",
      "\n"
     ]
    },
    {
     "data": {
      "text/plain": [
       "27"
      ]
     },
     "execution_count": 152,
     "metadata": {},
     "output_type": "execute_result"
    }
   ],
   "source": [
    "# Upscale/Special Occasion\n",
    "# want to add zero-shot-score (eg \"formal dinner\")\n",
    "\n",
    "query = \"\"\"\n",
    "        SELECT name, business_id, stars\n",
    "        FROM philly_df_extracted_keywords\n",
    "        WHERE attributes.RestaurantsPriceRange2 = 4\n",
    "         AND (Classy = 'true' OR Upscale = 'true' OR Casual = 'false')\n",
    "         AND attributes.RestaurantsReservations = 'True'\n",
    "        \"\"\"\n",
    "\n",
    "special_occassion_df = ss.sql(query).orderBy(F.desc('stars'), F.desc('review_count'))\n",
    "print(\"Special Occassion\")\n",
    "special_occassion_df.show(10, truncate=False)\n",
    "special_occassion_df.count()"
   ]
  },
  {
   "cell_type": "code",
   "execution_count": 153,
   "metadata": {},
   "outputs": [
    {
     "name": "stdout",
     "output_type": "stream",
     "text": [
      "Family Friendly\n",
      "+------------------------------+----------------------+-----+\n",
      "|name                          |business_id           |stars|\n",
      "+------------------------------+----------------------+-----+\n",
      "|Jones                         |d_tRshM-w6S4QxE4VVi8tQ|3.5  |\n",
      "|Green Eggs Café               |0RuvlgTnKFbX3IK0ZOOocA|4.0  |\n",
      "|Pizzeria Stella               |vF_QwGltBpVesMMGclzB9Q|4.0  |\n",
      "|Miles Table                   |lWedWkinrM5j13pyimbpbA|4.5  |\n",
      "|Trolley Car Diner             |kK1re49IK3jmCYTL6B6_lw|3.5  |\n",
      "|Sabrina's Café                |iUZEGx29miZObLd6_lt7Vg|4.0  |\n",
      "|Percy Street Barbecue         |qsAZNQ-6P4I9r7onkBZJ_g|4.0  |\n",
      "|Iron Hill Brewery & Restaurant|ohWH383r60AREWh-aphpSw|3.5  |\n",
      "|Nomad Pizza Company           |M_EpyAH1CZZVlhxfYBLOqg|4.5  |\n",
      "|Bar Hygge                     |Mwc3n5Psw9wRaQ22vZWDYQ|4.5  |\n",
      "+------------------------------+----------------------+-----+\n",
      "only showing top 10 rows\n",
      "\n"
     ]
    },
    {
     "data": {
      "text/plain": [
       "398"
      ]
     },
     "execution_count": 153,
     "metadata": {},
     "output_type": "execute_result"
    }
   ],
   "source": [
    "# Family-Friendly\n",
    "\n",
    "query = \"\"\"\n",
    "        SELECT name, business_id, stars\n",
    "        FROM philly_df_extracted_keywords\n",
    "        WHERE (attributes.RestaurantsPriceRange2 = 1 OR attributes.RestaurantsPriceRange2 = 2)\n",
    "         AND Casual = 'true'\n",
    "         AND attributes.GoodForKids = 'True'\n",
    "         AND categories NOT LIKE '%Nightlife%' \n",
    "         AND attributes.NoiseLevel LIKE '%average%'\n",
    "        \"\"\"\n",
    "\n",
    "family_friendly_df = ss.sql(query).orderBy(F.desc('family_friendly_reviews'), F.desc('stars'), F.desc('review_count'))\n",
    "print(\"Family Friendly\")\n",
    "family_friendly_df.show(10, truncate=False)\n",
    "family_friendly_df.count()"
   ]
  },
  {
   "cell_type": "code",
   "execution_count": 154,
   "metadata": {},
   "outputs": [
    {
     "name": "stdout",
     "output_type": "stream",
     "text": [
      "Rooftop\n",
      "+------------------------+----------------------+-----+\n",
      "|name                    |business_id           |stars|\n",
      "+------------------------+----------------------+-----+\n",
      "|Bok Bar                 |TdrNka-oPWf4B-jN9rKltw|4.0  |\n",
      "|The Continental Mid-town|WxB8498ejPtHE7wFa89_fA|3.5  |\n",
      "|R2L                     |9gObo5ltOMo6UgsaXaHPWA|3.5  |\n",
      "|City Tap House          |LwX2vbzttWYAdoBoVtfvRg|3.5  |\n",
      "|XIX Nineteen            |17MK8qagV374AuUA4sXuIA|3.5  |\n",
      "|Revolution House        |ldr7iDtxFXX-q7tJuXqlGQ|3.5  |\n",
      "|Assembly                |MmDwOS74IeHja_v4jzfAgQ|3.5  |\n",
      "|The Corner              |nWpIXaVS8VuAsHZYID4Lww|3.5  |\n",
      "|Stratus                 |79PsTPa-1DBLKhNytfAkYQ|3.0  |\n",
      "|Attico Rooftop Lounge   |6c8eIawbCBu3FLp2kDraBA|3.0  |\n",
      "+------------------------+----------------------+-----+\n",
      "\n"
     ]
    },
    {
     "data": {
      "text/plain": [
       "10"
      ]
     },
     "execution_count": 154,
     "metadata": {},
     "output_type": "execute_result"
    }
   ],
   "source": [
    "# Rooftop\n",
    "# want to add zero-shot-score (eg \"rooftop views\")\n",
    "\n",
    "query = \"\"\"\n",
    "        SELECT name, business_id, stars\n",
    "        FROM philly_df_extracted_keywords\n",
    "        WHERE rooftop_skyline_reviews > 20\n",
    "        \"\"\"\n",
    "\n",
    "rooftop_df =  ss.sql(query).orderBy(F.desc('stars') , F.desc('review_count'),  F.desc('rooftop_skyline_reviews'))\n",
    "print(\"Rooftop\")\n",
    "rooftop_df.show(10, truncate=False)\n",
    "rooftop_df.count()"
   ]
  },
  {
   "cell_type": "code",
   "execution_count": 134,
   "metadata": {},
   "outputs": [
    {
     "name": "stderr",
     "output_type": "stream",
     "text": [
      "                                                                                \r"
     ]
    },
    {
     "name": "stdout",
     "output_type": "stream",
     "text": [
      "+--------------------------------------+----------------------+-----+\n",
      "|name                                  |business_id           |stars|\n",
      "+--------------------------------------+----------------------+-----+\n",
      "|Mom Mom's Kitchen and Polish Food Cart|RVLF2RaStLkJiQCqBHknDw|5.0  |\n",
      "|Smiley's Cafe                         |gCcJTKC40CL0XtYYGfcXDw|4.5  |\n",
      "|BAP                                   |ROeacJQwBeh05Rqg7F6TCg|4.5  |\n",
      "|Thang Long Pho Restaurant             |M6ap9LXMEZmHf6NhlNpDQA|4.5  |\n",
      "|Tamalex Restaurant                    |6CpCnFzpyOV4ymhNP1AOGw|4.5  |\n",
      "|Malelani  Cafe                        |pmnaMretlgmAA96i8Z7NFw|4.5  |\n",
      "|Street Side                           |6OC8ErU_m06KABnfSXTJEA|4.5  |\n",
      "|Foo Kitchen                           |efNrVvbNw2stIq2PvCDV6g|4.5  |\n",
      "|Hidden Gem Cafe                       |Sp-LM7L_6M-MPo5NCHw8Og|4.5  |\n",
      "|Cafe Nhan                             |6PO3OlixvoZMJBlcBW_iRw|4.5  |\n",
      "+--------------------------------------+----------------------+-----+\n",
      "only showing top 10 rows\n",
      "\n"
     ]
    },
    {
     "name": "stderr",
     "output_type": "stream",
     "text": [
      "                                                                                \r"
     ]
    },
    {
     "data": {
      "text/plain": [
       "33"
      ]
     },
     "execution_count": 134,
     "metadata": {},
     "output_type": "execute_result"
    }
   ],
   "source": [
    "# Budget\n",
    "\n",
    "query = \"\"\"\n",
    "        SELECT name, business_id, stars\n",
    "        FROM ambience_expanded\n",
    "        WHERE categories NOT LIKE '%Fast Food%'\n",
    "         AND attributes.RestaurantsPriceRange2 = 1\n",
    "         AND categories NOT LIKE '%Bakeries'\n",
    "         AND attributes.RestaurantsTableService = 'True'\n",
    "         AND (get_json_object(replace(replace(replace(attributes.GoodForMeal, \"'\", '\"'), 'False', 'false'), 'True', 'true'), '$.lunch') = 'true' \n",
    "         OR get_json_object(replace(replace(replace(attributes.GoodForMeal, \"'\", '\"'), 'False', 'false'), 'True', 'true'), '$.dinner') = 'true')\n",
    "        \"\"\"\n",
    "\n",
    "budget_df = ss.sql(query).orderBy(F.desc('stars'), F.desc('review_count'))\n",
    "budget_df.show(10, truncate=False)\n",
    "budget_df.count()"
   ]
  },
  {
   "cell_type": "markdown",
   "metadata": {},
   "source": [
    "## (3) Collecting business and images for Pan website"
   ]
  },
  {
   "cell_type": "markdown",
   "metadata": {},
   "source": [
    "Join each categories DF of top 10 businesses with photo metadata.\n"
   ]
  },
  {
   "cell_type": "code",
   "execution_count": 101,
   "metadata": {},
   "outputs": [
    {
     "name": "stderr",
     "output_type": "stream",
     "text": [
      "[Stage 356:>                                                        (0 + 7) / 7]\r"
     ]
    },
    {
     "name": "stdout",
     "output_type": "stream",
     "text": [
      "+--------------------+--------------------+\n",
      "|         business_id|           photo_ids|\n",
      "+--------------------+--------------------+\n",
      "|EreYgrQPuR7Sk_FKe...|[PyulJEnHzdsH44pZ...|\n",
      "|qaDImxPguQz0jToNY...|[ao2DyscqroV7X6Lu...|\n",
      "|OAWa1WML2V1ZLJGD6...|[K5r-Ej8kYsQcRQuP...|\n",
      "|K7KHmHzxNwzqiijSJ...|[fNciZ4vMEzxFFzVs...|\n",
      "|e4MoozYGqe_rb4_ZC...|[YEk_gCd037WJyEhG...|\n",
      "|9A5Gw0At6so0x-vWM...|[FT5aBSWt8QdYTFyL...|\n",
      "|MM_v-KIUJiXLCxnkI...|[VpWKpItoDhkiDt6z...|\n",
      "|lWedWkinrM5j13pyi...|[tHCApa_uvRkKZ61C...|\n",
      "|Z5b1Me1YBZGQAxIx6...|[UfJTLq-1VPDD5RgP...|\n",
      "|zjTBfbvbN2Ps6_Ar0...|[i6WU1B8v97HLzOHT...|\n",
      "+--------------------+--------------------+\n",
      "\n"
     ]
    },
    {
     "name": "stderr",
     "output_type": "stream",
     "text": [
      "                                                                                \r"
     ]
    }
   ],
   "source": [
    "# coworking_df = coworking_df.limit(10)\n",
    "# coworking_df.createOrReplaceTempView('coworking_df')\n",
    "\n",
    "\n",
    "query = \"\"\"\n",
    "        SELECT coworking_df.business_id , array_agg(photos_metadata.photo_id) AS photo_ids\n",
    "        FROM coworking_df JOIN photos_metadata\n",
    "         ON coworking_df.business_id = photos_metadata.business_id\n",
    "        GROUP BY coworking_df.business_id\n",
    "        \"\"\"\n",
    "\n",
    "coworking_ids = ss.sql(query)\n",
    "coworking_ids.show(10)"
   ]
  },
  {
   "cell_type": "code",
   "execution_count": 102,
   "metadata": {},
   "outputs": [
    {
     "name": "stdout",
     "output_type": "stream",
     "text": [
      "+--------------------+--------------------+\n",
      "|         business_id|           photo_ids|\n",
      "+--------------------+--------------------+\n",
      "|EreYgrQPuR7Sk_FKe...|[PyulJEnHzdsH44pZ...|\n",
      "|Mwc3n5Psw9wRaQ22v...|[QOWO8hYS1Nx_slO2...|\n",
      "|B6Cn6maWQ6sLhLwYG...|[rbxhySfO2WzlADtz...|\n",
      "|vUrTGX_7HxqeoQ_6Q...|[vQ4f78kbIvE52xZB...|\n",
      "|MlXH9dWYDFEBbwuGS...|[Bc5bUdR4e3qnu69F...|\n",
      "|VbGGpt-Q5ZeMxSFPD...|[XLkQt6U1loL820L2...|\n",
      "|E_h2yNoagLK-3ODYw...|[RQXrLFvGmkhVPVF-...|\n",
      "|wocwfwSFrNfYJRyfY...|[-YsQj6HOEUNDT0R6...|\n",
      "|-sTrihdzACrsOSu1F...|[HIDivevBlu2KTM2C...|\n",
      "|zujdPV3HT-Y-CKE1G...|[ONkMFsSKARJk9VXw...|\n",
      "+--------------------+--------------------+\n",
      "\n"
     ]
    }
   ],
   "source": [
    "# brunch_df = brunch_df.limit(10)\n",
    "# brunch_df.createOrReplaceTempView('brunch_df')\n",
    "\n",
    "\n",
    "query = \"\"\"\n",
    "        SELECT brunch_df.business_id , array_agg(photos_metadata.photo_id) AS photo_ids\n",
    "        FROM brunch_df JOIN photos_metadata\n",
    "         ON brunch_df.business_id = photos_metadata.business_id\n",
    "        GROUP BY brunch_df.business_id\n",
    "        \"\"\"\n",
    "\n",
    "brunch_ids = ss.sql(query)\n",
    "brunch_ids.show(10)"
   ]
  },
  {
   "cell_type": "code",
   "execution_count": 103,
   "metadata": {},
   "outputs": [
    {
     "name": "stdout",
     "output_type": "stream",
     "text": [
      "+--------------------+--------------------+\n",
      "|         business_id|           photo_ids|\n",
      "+--------------------+--------------------+\n",
      "|_34KJPR-T0HP9USJw...|[RmWkNrCHcbZRoKYn...|\n",
      "|rQKL-bO8Xup4gCPcj...|[BIEGa9dKZa2ykMJl...|\n",
      "|CyZrPCmQqMbXdD6SX...|[qpns5FRzRx-XJ0V1...|\n",
      "|YN4Kk751tmdvoarGo...|[DED4hIeT8RjvLf_O...|\n",
      "|PVVFos1LDfD7iETY0...|[2lzMcPNlwEoyY4m_...|\n",
      "|9A5Gw0At6so0x-vWM...|[FT5aBSWt8QdYTFyL...|\n",
      "|MM_v-KIUJiXLCxnkI...|[VpWKpItoDhkiDt6z...|\n",
      "|phsLOuBeiYI43hglv...|[CnLqQ5v22NTPOnA4...|\n",
      "|-wwhD6SwDOJZlbZkH...|[oVOnX6A09-X8XFhD...|\n",
      "|gczLFZVmpfsBB3uUH...|[oWtRXxOQkF92ZJqO...|\n",
      "+--------------------+--------------------+\n",
      "\n"
     ]
    }
   ],
   "source": [
    "# green_df = green_df.limit(10)\n",
    "# green_df.createOrReplaceTempView('green_df')\n",
    "\n",
    "\n",
    "query = \"\"\"\n",
    "        SELECT green_df.business_id , array_agg(photos_metadata.photo_id) AS photo_ids\n",
    "        FROM green_df JOIN photos_metadata\n",
    "         ON green_df.business_id = photos_metadata.business_id\n",
    "        GROUP BY green_df.business_id\n",
    "        \"\"\"\n",
    "\n",
    "green_ids = ss.sql(query)\n",
    "green_ids.show(10)"
   ]
  },
  {
   "cell_type": "code",
   "execution_count": 104,
   "metadata": {},
   "outputs": [
    {
     "name": "stdout",
     "output_type": "stream",
     "text": [
      "+--------------------+--------------------+\n",
      "|         business_id|           photo_ids|\n",
      "+--------------------+--------------------+\n",
      "|LM54ufrINJWoTN5im...|[ItCnim2wIw_DKzIW...|\n",
      "|ytynqOUb3hjKeJfRj...|[HUCU2vGCZ3nnOWdE...|\n",
      "|lQTdARrqdKMAcDp1P...|[_K2ppPMOmvGsq3kH...|\n",
      "|6_LnAQQ0-mml8Ygpf...|[wCRelDbredzJYAMr...|\n",
      "|9ggTidLF9LPNdyWdC...|[HM7s4kpQ39fOFDpw...|\n",
      "|Jn4tRtjIuz6MBCykQ...|[wbGuDT7E7QYYK4Cd...|\n",
      "|Gw7UW0E2BguzL9suQ...|[YlY0qxoCQAgdVwEf...|\n",
      "|7pAgxBMUjrVPH7xh3...|[JsFdtQ87i86Z4NDi...|\n",
      "|kkcQYuF3w5iHnHMf0...|[y9JjcJVI-Q-OxQOZ...|\n",
      "|ZPFdJgzPjEUM6BoFf...|[VPRVuRQCw68Efqoo...|\n",
      "+--------------------+--------------------+\n",
      "\n"
     ]
    }
   ],
   "source": [
    "# local_delicacies_df = local_delicacies_df.limit(10)\n",
    "# local_delicacies_df.createOrReplaceTempView('local_delicacies_df')\n",
    "\n",
    "\n",
    "query = \"\"\"\n",
    "        SELECT local_delicacies_df.business_id , array_agg(photos_metadata.photo_id) AS photo_ids\n",
    "        FROM local_delicacies_df JOIN photos_metadata\n",
    "         ON local_delicacies_df.business_id = photos_metadata.business_id\n",
    "        GROUP BY local_delicacies_df.business_id\n",
    "        \"\"\"\n",
    "\n",
    "local_delicacies_ids = ss.sql(query)\n",
    "local_delicacies_ids.show(10)"
   ]
  },
  {
   "cell_type": "code",
   "execution_count": 105,
   "metadata": {},
   "outputs": [
    {
     "name": "stdout",
     "output_type": "stream",
     "text": [
      "+--------------------+--------------------+\n",
      "|         business_id|           photo_ids|\n",
      "+--------------------+--------------------+\n",
      "|JVDHxMnKjif8XdXVF...|[9awbs92QFoFBIipQ...|\n",
      "|Ipkx4Sa7ybn8C6LtT...|[4RPBqXaA9xCC7cVT...|\n",
      "|i_FWONQD1ZBqrNE2b...|[diaexIdeMq9YjEQK...|\n",
      "|vUrTGX_7HxqeoQ_6Q...|[vQ4f78kbIvE52xZB...|\n",
      "|vhDWGF-8BfsxvS7Zo...|[VX3-SSlTz4ov9elL...|\n",
      "|h7TO_IsmLCYmKKDVO...|[PV2UEdZYHyY86NBe...|\n",
      "|E_h2yNoagLK-3ODYw...|[RQXrLFvGmkhVPVF-...|\n",
      "|4_-IcMpkF_sBRHomW...|[W-GkD1LEWUEUzcKu...|\n",
      "|eJaeTZlIdM3HWCq__...|[vsyNw_KISRh4A7hH...|\n",
      "|Q-prSTdggNlxAEFV8...|[s4qiZrCuvSVc-fwM...|\n",
      "+--------------------+--------------------+\n",
      "\n"
     ]
    }
   ],
   "source": [
    "# romantic_date_night_df = romantic_date_night_df.limit(10)\n",
    "# romantic_date_night_df.createOrReplaceTempView('romantic_date_night_df')\n",
    "\n",
    "\n",
    "query = \"\"\"\n",
    "        SELECT romantic_date_night_df.business_id , array_agg(photos_metadata.photo_id) AS photo_ids\n",
    "        FROM romantic_date_night_df JOIN photos_metadata\n",
    "         ON romantic_date_night_df.business_id = photos_metadata.business_id\n",
    "        GROUP BY romantic_date_night_df.business_id\n",
    "        \"\"\"\n",
    "\n",
    "romantic_date_night_ids = ss.sql(query)\n",
    "romantic_date_night_ids.show(10)"
   ]
  },
  {
   "cell_type": "code",
   "execution_count": 106,
   "metadata": {},
   "outputs": [
    {
     "name": "stdout",
     "output_type": "stream",
     "text": [
      "+--------------------+--------------------+\n",
      "|         business_id|           photo_ids|\n",
      "+--------------------+--------------------+\n",
      "|0oSSjekU-3GR8gsel...|[WMvEQIfbdPVEQMBK...|\n",
      "|wUnLSg_GKfEIQ5CQQ...|[hfUUbS6LhBD81nYB...|\n",
      "|C9UylQTOh7uwZo4a7...|[4bBwLVRcVWHswAIm...|\n",
      "|wbDRmtxaKRpBOjutv...|[0i0bHPSyskK1kgIp...|\n",
      "|ctHjyadbDQAtUFfkc...|[ARm3Lm-thBgN2mNQ...|\n",
      "|e3Y3hDpwHc9RmQlJt...|[zlfkIIv-Al-wYoqH...|\n",
      "|N2j1caPRBMk34IEKq...|[7f6-PViffqk8gVMV...|\n",
      "|cGX-1IUwXOjkUqZbk...|[r5kO6Q9zxuIg60Oe...|\n",
      "|6_T2xzR74JqGCTPef...|[FGeQf8E6YGHDml-I...|\n",
      "|fEqiXG_B-fn__w0ae...|[GuZ23QCoj49nfOIZ...|\n",
      "+--------------------+--------------------+\n",
      "\n"
     ]
    }
   ],
   "source": [
    "# special_occassion_df = special_occassion_df.limit(10)\n",
    "# special_occassion_df.createOrReplaceTempView('special_occassion_df')\n",
    "\n",
    "\n",
    "query = \"\"\"\n",
    "        SELECT special_occassion_df.business_id , array_agg(photos_metadata.photo_id) AS photo_ids\n",
    "        FROM special_occassion_df JOIN photos_metadata\n",
    "         ON special_occassion_df.business_id = photos_metadata.business_id\n",
    "        GROUP BY special_occassion_df.business_id\n",
    "        \"\"\"\n",
    "\n",
    "special_occassion_ids = ss.sql(query)\n",
    "special_occassion_ids.show(10)"
   ]
  },
  {
   "cell_type": "code",
   "execution_count": 107,
   "metadata": {},
   "outputs": [
    {
     "name": "stdout",
     "output_type": "stream",
     "text": [
      "+--------------------+--------------------+\n",
      "|         business_id|           photo_ids|\n",
      "+--------------------+--------------------+\n",
      "|Mwc3n5Psw9wRaQ22v...|[QOWO8hYS1Nx_slO2...|\n",
      "|ohWH383r60AREWh-a...|[0RgwLP0d-nIdVco7...|\n",
      "|iUZEGx29miZObLd6_...|[b6dtXSB0E0-XlKqI...|\n",
      "|0RuvlgTnKFbX3IK0Z...|[cpcbdCLIYJx5a1_T...|\n",
      "|vF_QwGltBpVesMMGc...|[Ac-U9RamzA6oJEie...|\n",
      "|kK1re49IK3jmCYTL6...|[TPoeVM5voXOGSi37...|\n",
      "|d_tRshM-w6S4QxE4V...|[SvxXFyjOFZTeYKP7...|\n",
      "|lWedWkinrM5j13pyi...|[tHCApa_uvRkKZ61C...|\n",
      "|M_EpyAH1CZZVlhxfY...|[7CLP-SQo5xNVr_Xt...|\n",
      "|qsAZNQ-6P4I9r7onk...|[_bWxRRrJBVtszO0d...|\n",
      "+--------------------+--------------------+\n",
      "\n"
     ]
    }
   ],
   "source": [
    "# family_friendly_df = family_friendly_df.limit(10)\n",
    "# family_friendly_df.createOrReplaceTempView('family_friendly_df')\n",
    "\n",
    "\n",
    "query = \"\"\"\n",
    "        SELECT family_friendly_df.business_id , array_agg(photos_metadata.photo_id) AS photo_ids\n",
    "        FROM family_friendly_df JOIN photos_metadata\n",
    "         ON family_friendly_df.business_id = photos_metadata.business_id\n",
    "        GROUP BY family_friendly_df.business_id\n",
    "        \"\"\"\n",
    "\n",
    "family_friendly_ids = ss.sql(query)\n",
    "family_friendly_ids.show(10)"
   ]
  },
  {
   "cell_type": "code",
   "execution_count": 142,
   "metadata": {},
   "outputs": [
    {
     "name": "stdout",
     "output_type": "stream",
     "text": [
      "+--------------------+--------------------+\n",
      "|         business_id|           photo_ids|\n",
      "+--------------------+--------------------+\n",
      "|17MK8qagV374AuUA4...|[1zzFlwwy3jihXJ6N...|\n",
      "|TdrNka-oPWf4B-jN9...|[jLWj48yy79IWZ-4G...|\n",
      "|LwX2vbzttWYAdoBoV...|[PJ38A9seHdxDit5b...|\n",
      "|WxB8498ejPtHE7wFa...|[HiMe9Q4qFTkrgvf5...|\n",
      "|79PsTPa-1DBLKhNyt...|[kGlFe1bD2cM-iCIe...|\n",
      "|ldr7iDtxFXX-q7tJu...|[iCJOmiFtkosVdm2G...|\n",
      "|6c8eIawbCBu3FLp2k...|[oHV7MV5lWZUi9XjF...|\n",
      "|MmDwOS74IeHja_v4j...|[eGfa6OdkP61gdrEg...|\n",
      "|9gObo5ltOMo6UgsaX...|[q-biT65t7smZfbTo...|\n",
      "|nWpIXaVS8VuAsHZYI...|[_3CaB7zaky7Xdi6f...|\n",
      "+--------------------+--------------------+\n",
      "\n"
     ]
    }
   ],
   "source": [
    "# rooftop_df = rooftop_df.limit(10)\n",
    "# rooftop_df.createOrReplaceTempView('rooftop_df')\n",
    "\n",
    "\n",
    "query = \"\"\"\n",
    "        SELECT rooftop_df.business_id , array_agg(photos_metadata.photo_id) AS photo_ids\n",
    "        FROM rooftop_df JOIN photos_metadata\n",
    "         ON rooftop_df.business_id = photos_metadata.business_id\n",
    "        GROUP BY rooftop_df.business_id\n",
    "        \"\"\"\n",
    "\n",
    "rooftop_ids = ss.sql(query)\n",
    "rooftop_ids.show(10)"
   ]
  },
  {
   "cell_type": "code",
   "execution_count": 109,
   "metadata": {},
   "outputs": [
    {
     "name": "stderr",
     "output_type": "stream",
     "text": [
      "                                                                                \r"
     ]
    },
    {
     "name": "stdout",
     "output_type": "stream",
     "text": [
      "+--------------------+--------------------+\n",
      "|         business_id|           photo_ids|\n",
      "+--------------------+--------------------+\n",
      "|Sp-LM7L_6M-MPo5NC...|[1aZ1Ae0vmsjgvSIM...|\n",
      "|pmnaMretlgmAA96i8...|[tSteZVAbIh0XuUx2...|\n",
      "|gCcJTKC40CL0XtYYG...|[uOzls7U5PMfNgjPa...|\n",
      "|6OC8ErU_m06KABnfS...|[iLYb6yqZAaI26EgB...|\n",
      "|RVLF2RaStLkJiQCqB...|[EyTE26BdtW2PcWuK...|\n",
      "|6PO3OlixvoZMJBlcB...|[popKUQQpZoqWkirh...|\n",
      "|efNrVvbNw2stIq2Pv...|[vV8kgBtENih7awZH...|\n",
      "|M6ap9LXMEZmHf6Nhl...|[pAK1F-3ROp57M0xf...|\n",
      "|6CpCnFzpyOV4ymhNP...|[6TJ35pqkjmeNsI4p...|\n",
      "|ROeacJQwBeh05Rqg7...|[oewWFZoEf7AVYyWJ...|\n",
      "+--------------------+--------------------+\n",
      "\n"
     ]
    }
   ],
   "source": [
    "# budget_df = budget_df.limit(10)\n",
    "# budget_df.createOrReplaceTempView('budget_df')\n",
    "\n",
    "\n",
    "query = \"\"\"\n",
    "        SELECT budget_df.business_id, array_agg(photos_metadata.photo_id) AS photo_ids\n",
    "        FROM budget_df JOIN photos_metadata\n",
    "         ON budget_df.business_id = photos_metadata.business_id\n",
    "        GROUP BY budget_df.business_id\n",
    "        \"\"\"\n",
    "\n",
    "budget_ids = ss.sql(query)\n",
    "budget_ids.show(10)"
   ]
  },
  {
   "cell_type": "markdown",
   "metadata": {},
   "source": [
    "Create directories to store photos for top 10 businesses in each categories."
   ]
  },
  {
   "cell_type": "code",
   "execution_count": 93,
   "metadata": {},
   "outputs": [],
   "source": [
    "vibes = [\"coworking_cafe\", \"brunch\", \"green\", \"local_delicacies\", \n",
    "         \"date_night\", \"special_occassion\", \"family_friendly\", \"rooftop\"]\n",
    "\n",
    "category_dir = '/Users/scampione/MSDS/Spring_24_2/Entrepreneurship/categories/'\n",
    "\n",
    "vibe_dirs = [f'{category_dir}{vibe}'  for vibe in vibes]"
   ]
  },
  {
   "cell_type": "code",
   "execution_count": 120,
   "metadata": {},
   "outputs": [],
   "source": [
    "def create_top_10s_dir(vibe_df, vibe_dir, photo_base_dir):\n",
    "    for row in vibe_df.collect():\n",
    "        business_id = row['business_id']\n",
    "        photo_ids = row['photo_ids']\n",
    "        photo_files = [f'{id}.jpg' for id in photo_ids]\n",
    "        \n",
    "        # Create a new subdirectory for the business\n",
    "        business_dir = os.path.join(vibe_dir, business_id)\n",
    "        os.makedirs(business_dir, exist_ok=True)\n",
    "        \n",
    "        # Copy each photo to the new subdirectory\n",
    "        for photo_file in photo_files:\n",
    "            # Construct file paths\n",
    "            source_path = os.path.join(photo_base_dir, photo_file)\n",
    "            destination_path = os.path.join(business_dir, photo_file)\n",
    "            \n",
    "            # Check if the source file exists and then copy\n",
    "            if os.path.exists(source_path):\n",
    "                shutil.copy(source_path, destination_path)"
   ]
  },
  {
   "cell_type": "code",
   "execution_count": 123,
   "metadata": {},
   "outputs": [],
   "source": [
    "vibe_ids = [coworking_ids, brunch_ids, green_ids, local_delicacies_ids, \n",
    "            romantic_date_night_ids, special_occassion_ids,\n",
    "            family_friendly_ids, rooftop_ids]\n",
    "\n",
    "photo_base_dir = '/Users/scampione/MSDS/Spring_24_2/Entrepreneurship/yelp_photos/photos'\n"
   ]
  },
  {
   "cell_type": "code",
   "execution_count": null,
   "metadata": {},
   "outputs": [],
   "source": [
    "# Try for one\n",
    "coworking_dir = '/Users/scampione/MSDS/Spring_24_2/Entrepreneurship/categories/coworking_cafe'\n",
    "create_top_10s_dir(coworking_ids, coworking_dir, photo_base_dir)"
   ]
  },
  {
   "cell_type": "code",
   "execution_count": 124,
   "metadata": {},
   "outputs": [
    {
     "name": "stderr",
     "output_type": "stream",
     "text": [
      "                                                                                \r"
     ]
    }
   ],
   "source": [
    "for vibe_ids, vibe_dir in zip(vibe_ids, vibe_dirs): \n",
    "    create_top_10s_dir(vibe_ids, vibe_dir, photo_base_dir)"
   ]
  },
  {
   "cell_type": "markdown",
   "metadata": {},
   "source": [
    "Business data for top ten business in each cateogires."
   ]
  },
  {
   "cell_type": "code",
   "execution_count": 173,
   "metadata": {},
   "outputs": [
    {
     "name": "stdout",
     "output_type": "stream",
     "text": [
      "coworking_cafe\n",
      "K7KHmHzxNwzqiijSJeKe_A:\tCafe La Maude,   4.5\n",
      "lWedWkinrM5j13pyimbpbA:\tMiles Table,   4.5\n",
      "OAWa1WML2V1ZLJGD6V3nBQ:\tMiddle Child,   4.5\n",
      "qaDImxPguQz0jToNYvB1Eg:\tCafé y Chocolate,   4.5\n",
      "EreYgrQPuR7Sk_FKeZZg9g:\tTalula's Daily,   4.5\n",
      "9A5Gw0At6so0x-vWM0_JZw:\tGrindcore House,   4.5\n",
      "e4MoozYGqe_rb4_ZC1rYMQ:\tNook Bakery & Coffee Bar,   4.5\n",
      "MM_v-KIUJiXLCxnkIqPKWA:\tSoy Cafe,   4.5\n",
      "zjTBfbvbN2Ps6_Ar0w-fuQ:\tHinge Cafe,   4.5\n",
      "Z5b1Me1YBZGQAxIx62vmqg:\tSo Crepe,   4.5\n",
      "\n",
      "\n",
      "brunch\n",
      "vUrTGX_7HxqeoQ_6QCVz6g:\tSuraya,   4.5\n",
      "E_h2yNoagLK-3ODYwMPErw:\tV Street,   4.5\n",
      "MlXH9dWYDFEBbwuGStlfZg:\tLa Colombe Coffee,   4.5\n",
      "Mwc3n5Psw9wRaQ22vZWDYQ:\tBar Hygge,   4.5\n",
      "EreYgrQPuR7Sk_FKeZZg9g:\tTalula's Daily,   4.5\n",
      "wocwfwSFrNfYJRyfYSi1Cw:\tKnead Bagels,   4.5\n",
      "zujdPV3HT-Y-CKE1GgkMHQ:\tThe Bakeshop on 20th,   4.5\n",
      "B6Cn6maWQ6sLhLwYGLhSlg:\tStockyard Sandwich,   4.5\n",
      "-sTrihdzACrsOSu1FYdfxQ:\tThe Rooster,   4.5\n",
      "VbGGpt-Q5ZeMxSFPDbPeBg:\tGirard Bruncherie,   4.5\n",
      "\n",
      "\n",
      "green\n",
      "9A5Gw0At6so0x-vWM0_JZw:\tGrindcore House,   4.5\n",
      "MM_v-KIUJiXLCxnkIqPKWA:\tSoy Cafe,   4.5\n",
      "-wwhD6SwDOJZlbZkHlIchQ:\tHummusology,   4.5\n",
      "gczLFZVmpfsBB3uUHEbWiA:\tHipCityVeg,   4.5\n",
      "rQKL-bO8Xup4gCPcj_oz6w:\tPlantPure Cafe,   4.5\n",
      "CyZrPCmQqMbXdD6SX02f6w:\tJerry's Kitchen,   4.5\n",
      "YN4Kk751tmdvoarGo8z7_A:\tNew Delhi Indian Restaurant,   4.0\n",
      "phsLOuBeiYI43hglvWK96Q:\tP S & Co,   4.0\n",
      "_34KJPR-T0HP9USJw1nCfw:\tHiro Ramen House,   4.0\n",
      "PVVFos1LDfD7iETY0w4vaA:\tSu Xing House,   4.0\n",
      "\n",
      "\n",
      "local_delicacies\n",
      "ytynqOUb3hjKeJfRj5Tshw:\tReading Terminal Market,   4.5\n",
      "LM54ufrINJWoTN5imV8Etw:\tJohn's Roast Pork,   4.5\n",
      "6_LnAQQ0-mml8YgpfRjGuA:\tSaad's Halal Restaurant,   4.5\n",
      "7pAgxBMUjrVPH7xh3fn-gw:\tOh Brother Philly,   4.5\n",
      "kkcQYuF3w5iHnHMf0EnRhQ:\tJoe's Steaks + Soda Shop,   4.5\n",
      "Jn4tRtjIuz6MBCykQySpeg:\tWoodrow's Sandwich Shop,   4.5\n",
      "Gw7UW0E2BguzL9suQnwDeg:\tSPOT Gourmet Burgers,   4.5\n",
      "9ggTidLF9LPNdyWdCGtrYg:\tGooey Looie's,   4.5\n",
      "ZPFdJgzPjEUM6BoFfoV-ZA:\tMcNally's Tavern,   4.5\n",
      "lQTdARrqdKMAcDp1PWpQ9A:\tThe Original Turkey,   4.5\n",
      "\n",
      "\n",
      "date_night\n",
      "i_FWONQD1ZBqrNE2b-M5Ug:\tTalula's Garden,   4.5\n",
      "Ipkx4Sa7ybn8C6LtTqTztw:\tDouble Knot,   4.5\n",
      "vUrTGX_7HxqeoQ_6QCVz6g:\tSuraya,   4.5\n",
      "h7TO_IsmLCYmKKDVOOIeFw:\tFat Salmon,   4.5\n",
      "eJaeTZlIdM3HWCq__Ve4Wg:\tTria Cafe Rittenhouse,   4.5\n",
      "Q-prSTdggNlxAEFV88BZOw:\tTria Cafe Wash West,   4.5\n",
      "E_h2yNoagLK-3ODYwMPErw:\tV Street,   4.5\n",
      "JVDHxMnKjif8XdXVFWiClg:\tDizengoff,   4.5\n",
      "vhDWGF-8BfsxvS7Zo5Wv2w:\tAbe Fisher,   4.5\n",
      "4_-IcMpkF_sBRHomWZHNzA:\tBistrot La Minette,   4.5\n",
      "\n",
      "\n",
      "special_occassion\n",
      "ctHjyadbDQAtUFfkcAFEHw:\tZahav,   4.5\n",
      "6_T2xzR74JqGCTPefAD8Tw:\tMorimoto,   4.5\n",
      "0oSSjekU-3GR8gselReWnA:\tButcher and Singer,   4.5\n",
      "wbDRmtxaKRpBOjutvV6TEA:\tBarclay Prime,   4.5\n",
      "wUnLSg_GKfEIQ5CQQ770_g:\tVetri Cucina,   4.5\n",
      "e3Y3hDpwHc9RmQlJtIgHuw:\tLacroix Restaurant at The Rittenhouse,   4.5\n",
      "fEqiXG_B-fn__w0aeF3nBQ:\tLaurel,   4.5\n",
      "C9UylQTOh7uwZo4a7QhLyg:\tFriday Saturday Sunday,   4.5\n",
      "N2j1caPRBMk34IEKqtGLSA:\tBar 210,   4.5\n",
      "cGX-1IUwXOjkUqZbkKYcjw:\tFogo de Chao,   4.0\n",
      "\n",
      "\n",
      "family_friendly\n",
      "d_tRshM-w6S4QxE4VVi8tQ:\tJones,   3.5\n",
      "0RuvlgTnKFbX3IK0ZOOocA:\tGreen Eggs Café,   4.0\n",
      "vF_QwGltBpVesMMGclzB9Q:\tPizzeria Stella,   4.0\n",
      "lWedWkinrM5j13pyimbpbA:\tMiles Table,   4.5\n",
      "kK1re49IK3jmCYTL6B6_lw:\tTrolley Car Diner,   3.5\n",
      "iUZEGx29miZObLd6_lt7Vg:\tSabrina's Café,   4.0\n",
      "qsAZNQ-6P4I9r7onkBZJ_g:\tPercy Street Barbecue,   4.0\n",
      "ohWH383r60AREWh-aphpSw:\tIron Hill Brewery & Restaurant,   3.5\n",
      "M_EpyAH1CZZVlhxfYBLOqg:\tNomad Pizza Company,   4.5\n",
      "Mwc3n5Psw9wRaQ22vZWDYQ:\tBar Hygge,   4.5\n",
      "\n",
      "\n",
      "rooftop\n",
      "TdrNka-oPWf4B-jN9rKltw:\tBok Bar,   4.0\n",
      "WxB8498ejPtHE7wFa89_fA:\tThe Continental Mid-town,   3.5\n",
      "9gObo5ltOMo6UgsaXaHPWA:\tR2L,   3.5\n",
      "LwX2vbzttWYAdoBoVtfvRg:\tCity Tap House,   3.5\n",
      "17MK8qagV374AuUA4sXuIA:\tXIX Nineteen,   3.5\n",
      "ldr7iDtxFXX-q7tJuXqlGQ:\tRevolution House,   3.5\n",
      "MmDwOS74IeHja_v4jzfAgQ:\tAssembly,   3.5\n",
      "nWpIXaVS8VuAsHZYID4Lww:\tThe Corner,   3.5\n",
      "79PsTPa-1DBLKhNytfAkYQ:\tStratus,   3.0\n",
      "6c8eIawbCBu3FLp2kDraBA:\tAttico Rooftop Lounge,   3.0\n",
      "\n",
      "\n"
     ]
    }
   ],
   "source": [
    "vibes = [\"coworking_cafe\", \"brunch\", \"green\", \"local_delicacies\", \n",
    "         \"date_night\", \"special_occassion\", \"family_friendly\", \"rooftop\"]\n",
    "\n",
    "\n",
    "vibe_dfs = [coworking_df, brunch_df, green_df, local_delicacies_df, \n",
    "            romantic_date_night_df, special_occassion_df,\n",
    "            family_friendly_df, rooftop_df]\n",
    "\n",
    "for i, vibe_df in enumerate(vibe_dfs):\n",
    "    print(vibes[i])\n",
    "    for row in vibe_df.limit(10).collect():\n",
    "        print(f\"{row['business_id']}:\\t{row['name']},   {row['stars']}\")\n",
    "    print(\"\\n\")"
   ]
  }
 ],
 "metadata": {
  "kernelspec": {
   "display_name": "DistributedComputing",
   "language": "python",
   "name": "python3"
  },
  "language_info": {
   "codemirror_mode": {
    "name": "ipython",
    "version": 3
   },
   "file_extension": ".py",
   "mimetype": "text/x-python",
   "name": "python",
   "nbconvert_exporter": "python",
   "pygments_lexer": "ipython3",
   "version": "3.8.18"
  }
 },
 "nbformat": 4,
 "nbformat_minor": 2
}
