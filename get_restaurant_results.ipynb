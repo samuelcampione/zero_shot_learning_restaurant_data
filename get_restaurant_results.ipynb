{
 "cells": [
  {
   "cell_type": "markdown",
   "metadata": {},
   "source": [
    "# Analyzing Restaurant Vibes: *Zero-Shot Learning and PySpark*"
   ]
  },
  {
   "cell_type": "code",
   "execution_count": 1,
   "metadata": {},
   "outputs": [],
   "source": [
    "from pyspark.sql import SparkSession\n",
    "import pyspark.sql.functions as F"
   ]
  },
  {
   "cell_type": "code",
   "execution_count": null,
   "metadata": {},
   "outputs": [],
   "source": [
    "# Initialize Spark Session\n",
    "ss = SparkSession.builder \\\n",
    "    .appName(\"YelpDataAnalysis\") \\\n",
    "    .config(\"spark.driver.bindAddress\", \"localhost\") \\\n",
    "    .getOrCreate()"
   ]
  },
  {
   "cell_type": "code",
   "execution_count": null,
   "metadata": {},
   "outputs": [],
   "source": [
    "# Define helper functions\n",
    "def read_data(file_path, format='json', infer_schema='true', header='true'):\n",
    "    \"\"\"\n",
    "    Reads data from a specified file path using Spark, supporting multiple formats.\n",
    "    \n",
    "    Args:\n",
    "        file_path (str): The path to the dataset.\n",
    "        format (str): The format of the dataset (default is 'json').\n",
    "        infer_schema (str): Option to infer schema automatically (default is 'true').\n",
    "        header (str): Indicates if the first row should be used as a header (default is 'true').\n",
    "\n",
    "    Returns:\n",
    "        DataFrame: A DataFrame containing the imported data.\n",
    "    \"\"\"\n",
    "    return ss.read.format(format).option(\"inferSchema\", infer_schema).option(\"header\", header).load(file_path)\n",
    "\n",
    "\n",
    "def create_temp_view(df, view_name):\n",
    "    \"\"\"\n",
    "    Creates a temporary SQL view based on the DataFrame.\n",
    "    \n",
    "    Args:\n",
    "        df (DataFrame): DataFrame on which to base the SQL view.\n",
    "        view_name (str): The name of the SQL view to create.\n",
    "    \"\"\"\n",
    "    df.createOrReplaceTempView(view_name)\n"
   ]
  },
  {
   "cell_type": "markdown",
   "metadata": {},
   "source": [
    "## Database Creation"
   ]
  },
  {
   "cell_type": "code",
   "execution_count": null,
   "metadata": {},
   "outputs": [],
   "source": [
    "# Loading data and creating views\n",
    "businesses_df = read_data(\"../yelp_dataset/yelp_academic_dataset_business.json\")\n",
    "create_temp_view(businesses_df, \"businesses\")\n",
    "\n",
    "photos_meta = read_data('../yelp_photos/photos.json')\n",
    "create_temp_view(photos_meta, \"photos_metadata\")\n",
    "\n",
    "reviews_df = read_data(\"../yelp_dataset/yelp_academic_dataset_review.json\")\n",
    "create_temp_view(reviews_df, \"reviews\")\n",
    "\n",
    "zero_shot_scores_df = read_data(\"../zero_shot_scores.csv\", format='csv').drop(\"_c0\")\n",
    "create_temp_view(zero_shot_scores_df, \"zero_shot_scores\")\n"
   ]
  },
  {
   "cell_type": "code",
   "execution_count": null,
   "metadata": {},
   "outputs": [],
   "source": [
    "# Query for filtering Philadelphia restaurants and bars\n",
    "philly_restaurants_bars_df = ss.sql(\"\"\"\n",
    "    SELECT *\n",
    "    FROM businesses\n",
    "    WHERE city = 'Philadelphia' \n",
    "      AND (categories LIKE '%Restaurant%' OR categories LIKE '%Bar%')\n",
    "      AND categories NOT LIKE '%Barbers%'\n",
    "\"\"\")\n",
    "create_temp_view(philly_restaurants_bars_df, \"philly_restaurants_bars\")\n",
    "\n",
    "\n",
    "# Query to get businesses with more than one photo\n",
    "photo_counts_df = ss.sql(\"\"\"\n",
    "    SELECT business_id, count(photo_id) AS photos_count\n",
    "    FROM photos_metadata\n",
    "    GROUP BY business_id\n",
    "    HAVING photos_count > 1\n",
    "\"\"\")\n",
    "create_temp_view(photo_counts_df, \"temp_df_photos\")\n",
    "\n",
    "\n",
    "# Joining businesses with their photo counts\n",
    "philly_businesses_photos_df = ss.sql(\"\"\"\n",
    "    SELECT b.*, p.photos_count\n",
    "    FROM philly_restaurants_bars AS b\n",
    "    JOIN temp_df_photos AS p ON b.business_id = p.business_id\n",
    "\"\"\")\n",
    "create_temp_view(philly_businesses_photos_df, \"philly_restaurants_bars_1_photo\")\n"
   ]
  },
  {
   "cell_type": "code",
   "execution_count": null,
   "metadata": {},
   "outputs": [],
   "source": [
    "# Expanding the Ambience field\n",
    "ambience_expanded_df = ss.sql(\"\"\"\n",
    "    SELECT *, \n",
    "           get_json_object(replace(replace(replace(attributes.Ambience, \"'\", '\"'), 'False', 'false'), 'True', 'true'), '$.touristy') AS Touristy,\n",
    "           get_json_object(replace(replace(replace(attributes.Ambience, \"'\", '\"'), 'False', 'false'), 'True', 'true'), '$.hipster') AS Hipster,\n",
    "           get_json_object(replace(replace(replace(attributes.Ambience, \"'\", '\"'), 'False', 'false'), 'True', 'true'), '$.romantic') AS Romantic,\n",
    "           get_json_object(replace(replace(replace(attributes.Ambience, \"'\", '\"'), 'False', 'false'), 'True', 'true'), '$.divey') AS Divey,\n",
    "           get_json_object(replace(replace(replace(attributes.Ambience, \"'\", '\"'), 'False', 'false'), 'True', 'true'), '$.intimate') AS Intimate,\n",
    "           get_json_object(replace(replace(replace(attributes.Ambience, \"'\", '\"'), 'False', 'false'), 'True', 'true'), '$.trendy') AS Trendy,\n",
    "           get_json_object(replace(replace(replace(attributes.Ambience, \"'\", '\"'), 'False', 'false'), 'True', 'true'), '$.upscale') AS Upscale,\n",
    "           get_json_object(replace(replace(replace(attributes.Ambience, \"'\", '\"'), 'False', 'false'), 'True', 'true'), '$.classy') AS Classy,\n",
    "           get_json_object(replace(replace(replace(attributes.Ambience, \"'\", '\"'), 'False', 'false'), 'True', 'true'), '$.casual') AS Casual\n",
    "    FROM philly_restaurants_bars_1_photo\n",
    "\"\"\")\n",
    "create_temp_view(ambience_expanded_df, \"ambience_expanded\")"
   ]
  },
  {
   "cell_type": "code",
   "execution_count": null,
   "metadata": {},
   "outputs": [],
   "source": [
    "# Extract data from keywords\n",
    "query = \"\"\"\n",
    "        SELECT ambience_expanded.*, sub.romantic_reviews\n",
    "        FROM (\n",
    "            SELECT business_id, count(*) AS romantic_reviews\n",
    "            FROM reviews\n",
    "            WHERE business_id IN (SELECT business_id \n",
    "                                  FROM philly_restaurants_bars_1_photo)\n",
    "            AND text LIKE '%romantic%'\n",
    "            GROUP BY business_id             \n",
    "            ) AS sub\n",
    "        RIGHT JOIN ambience_expanded \n",
    "         ON sub.business_id = ambience_expanded.business_id\n",
    "        \"\"\"\n",
    "romantic = ss.sql(query)\n",
    "romantic.createOrReplaceTempView('added_romantic')\n",
    "\n",
    "\n",
    "query = \"\"\"\n",
    "        SELECT added_romantic.*, sub.family_friendly_reviews\n",
    "        FROM (\n",
    "            SELECT business_id, count(*) AS family_friendly_reviews\n",
    "            FROM reviews\n",
    "            WHERE business_id IN (SELECT business_id \n",
    "                                  FROM philly_restaurants_bars_1_photo)\n",
    "             AND (text LIKE '%good for kids%' OR \n",
    "                  text LIKE '%family friendly%' OR text LIKE '%kids menu%')\n",
    "            GROUP BY business_id             \n",
    "            ) AS sub\n",
    "        RIGHT JOIN added_romantic \n",
    "         ON sub.business_id = added_romantic.business_id\n",
    "        ORDER BY sub.family_friendly_reviews DESC\n",
    "        \"\"\"\n",
    "family_friendly = ss.sql(query)\n",
    "family_friendly.createOrReplaceTempView('added_family_friendly')\n",
    "\n",
    "\n",
    "query = \"\"\"\n",
    "        SELECT added_family_friendly.*, sub.rooftop_skyline_reviews\n",
    "        FROM (\n",
    "            SELECT business_id, count(*) AS rooftop_skyline_reviews\n",
    "            FROM reviews\n",
    "            WHERE business_id IN (SELECT business_id \n",
    "                                  FROM philly_restaurants_bars_1_photo)\n",
    "             AND (text LIKE '%rooftop%' OR text LIKE '%skyline%' OR \n",
    "                  text LIKE '%Rooftop%' OR text LIKE '%Skyline%')\n",
    "            GROUP BY business_id             \n",
    "            ) AS sub\n",
    "        RIGHT JOIN added_family_friendly \n",
    "         ON sub.business_id = added_family_friendly.business_id\n",
    "        ORDER BY sub.rooftop_skyline_reviews DESC\n",
    "        \"\"\"\n",
    "rooftop_skyline = ss.sql(query)\n",
    "rooftop_skyline.createOrReplaceTempView('added_rooftop_skyline')"
   ]
  },
  {
   "cell_type": "code",
   "execution_count": null,
   "metadata": {},
   "outputs": [],
   "source": [
    "# Combines  with zero-shot classification scores to offer a comprehensive business profile\n",
    "final_table_df = ss.sql(\"\"\"\n",
    "    SELECT *\n",
    "    FROM added_rooftop_skyline r\n",
    "    LEFT JOIN zero_shot_scores z ON r.business_id = z.bid\n",
    "    \"\"\")\n",
    "final_table_df.write.saveAsTable('philly_df_extracted_keywords')"
   ]
  },
  {
   "cell_type": "markdown",
   "metadata": {},
   "source": [
    "## Filtering Database for Vibe Matches\n",
    "\n",
    "**Vibes**:\n",
    "- Coworking Cafe\n",
    "- Brunch\n",
    "- Green\n",
    "- Local Delicacies\n",
    "- Romantic/Date Night\n",
    "- Upscale/Special Occassion\n",
    "- Family-Friendly\n",
    "- Rooftop\n",
    "- Budget"
   ]
  },
  {
   "cell_type": "code",
   "execution_count": null,
   "metadata": {},
   "outputs": [
    {
     "name": "stdout",
     "output_type": "stream",
     "text": [
      "Coworking\n"
     ]
    },
    {
     "name": "stderr",
     "output_type": "stream",
     "text": [
      "                                                                                \r"
     ]
    },
    {
     "name": "stdout",
     "output_type": "stream",
     "text": [
      "+------------------------+----------------------+-----+---------------+\n",
      "|name                    |business_id           |stars|zero_shot_score|\n",
      "+------------------------+----------------------+-----+---------------+\n",
      "|Milkcrate Cafe          |e-ZyZc24wgkKafM3pguR2w|4.5  |0.8            |\n",
      "|Nook Bakery & Coffee Bar|e4MoozYGqe_rb4_ZC1rYMQ|4.5  |0.7            |\n",
      "|Volo Coffeehouse        |k2YJkdLg25xlYjshpeEtkQ|4.5  |0.7            |\n",
      "|The Living Room Cafe    |uJvTBGksfErVDSOeBsmOyA|4.5  |0.7            |\n",
      "|Cafe Walnut             |9pr6rI87hZTCIAnFGNnvzQ|4.5  |0.6            |\n",
      "|Café y Chocolate        |qaDImxPguQz0jToNYvB1Eg|4.5  |0.5            |\n",
      "|Lulu Cafe               |q-m9__XyqMhuX5cValqS2w|4.5  |0.5            |\n",
      "|Function Coffee Labs    |BaSwNEingTmrBw4shffK5w|4.5  |0.5            |\n",
      "|United By Blue          |ZpgVL2z1kgRi954c9m9INw|4.5  |0.4            |\n",
      "|Talula's Daily          |EreYgrQPuR7Sk_FKeZZg9g|4.5  |0.3            |\n",
      "+------------------------+----------------------+-----+---------------+\n",
      "only showing top 10 rows\n",
      "\n"
     ]
    },
    {
     "data": {
      "text/plain": [
       "73"
      ]
     },
     "metadata": {},
     "output_type": "display_data"
    }
   ],
   "source": [
    "# Coworking Cafe\n",
    "query = \"\"\"\n",
    "        SELECT name, business_id, stars, round(coworking_cafe_score, 1) AS zero_shot_score\n",
    "        FROM philly_df_extracted_keywords\n",
    "        WHERE Casual = 'true' AND attributes.WiFi LIKE '%free%'\n",
    "         AND (categories LIKE '%Cafes%' OR categories LIKE '%Coffee%')\n",
    "         AND get_json_object(replace(replace(replace(attributes.GoodForMeal, \"'\", '\"'), 'False', 'false'), 'True', 'true'), '$.dinner') = 'false'\n",
    "        \"\"\"\n",
    "\n",
    "coworking_df = ss.sql(query).orderBy(F.desc('stars'), \n",
    "                                     F.desc(F.round('coworking_cafe_score', 1)), \n",
    "                                     F.desc('review_count'))\n",
    "\n",
    "print(\"Coworking\")\n",
    "coworking_df.show(10, truncate=False)"
   ]
  },
  {
   "cell_type": "code",
   "execution_count": 2,
   "metadata": {},
   "outputs": [],
   "source": [
    "# Brunch\n",
    "query = \"\"\"\n",
    "        SELECT name, business_id, stars, round(brunch_score, 1) AS zero_shot_score\n",
    "        FROM philly_df_extracted_keywords\n",
    "        WHERE Trendy = 'true'\n",
    "         AND (categories LIKE '%Brunch%' OR get_json_object(replace(replace(replace(attributes.GoodForMeal, \"'\", '\"'), 'False', 'false'), 'True', 'true'), '$.brunch') = 'true')\n",
    "        \"\"\"\n",
    "\n",
    "brunch_df = ss.sql(query).orderBy(F.desc(F.round('brunch_score', 1)), \n",
    "                                  F.desc('stars'), \n",
    "                                  F.desc('review_count'))"
   ]
  },
  {
   "cell_type": "code",
   "execution_count": 3,
   "metadata": {},
   "outputs": [],
   "source": [
    "# Green\n",
    "query = \"\"\"\n",
    "        SELECT name, business_id, stars\n",
    "        FROM philly_df_extracted_keywords\n",
    "        WHERE categories LIKE '%Vegetarian%' AND categories LIKE '%Vegan%'\n",
    "         AND get_json_object(replace(replace(replace(attributes.GoodForMeal, \"'\", '\"'), 'False', 'false'), 'True', 'true'), '$.lunch') = 'true'\n",
    "        \"\"\"\n",
    "\n",
    "green_df = ss.sql(query).orderBy(F.desc('stars'), F.desc('review_count'))"
   ]
  },
  {
   "cell_type": "code",
   "execution_count": 4,
   "metadata": {},
   "outputs": [],
   "source": [
    "# Local Delicacies\n",
    "query = \"\"\"\n",
    "        SELECT name, business_id, stars\n",
    "        FROM philly_df_extracted_keywords\n",
    "        WHERE (Touristy = 'true' OR categories LIKE '%Cheesesteak%' OR name LIKE '%Philadelphia%')\n",
    "         AND attributes.GoodForMeal != 'null'\n",
    "        ORDER BY stars DESC, review_count DESC\n",
    "        \"\"\"\n",
    "\n",
    "local_delicacies_df = ss.sql(query).orderBy(F.desc('stars'), F.desc('review_count'))"
   ]
  },
  {
   "cell_type": "code",
   "execution_count": 5,
   "metadata": {},
   "outputs": [],
   "source": [
    "# Romantic/Date Night\n",
    "query = \"\"\"\n",
    "        SELECT name, business_id, stars, round(romantic_date_night_score, 2) AS zero_shot_score\n",
    "        FROM philly_df_extracted_keywords\n",
    "        WHERE (attributes.RestaurantsPriceRange2 = 2 OR attributes.RestaurantsPriceRange2 = 3)\n",
    "         AND (Romantic = 'true' OR Trendy = 'true')\n",
    "        \"\"\"\n",
    "\n",
    "romantic_date_night_df = ss.sql(query).orderBy(F.desc(F.round('romantic_date_night_score', 2)), \n",
    "                                               F.desc('stars'), F.desc('review_count'), \n",
    "                                               F.desc('romantic_reviews'))"
   ]
  },
  {
   "cell_type": "code",
   "execution_count": 6,
   "metadata": {},
   "outputs": [],
   "source": [
    "# Upscale/Special Occasion\n",
    "query = \"\"\"\n",
    "        SELECT name, business_id, stars, round(upscale_special_occasion_score, 1) AS zero_shot_score\n",
    "        FROM philly_df_extracted_keywords\n",
    "        WHERE attributes.RestaurantsPriceRange2 = 4\n",
    "         AND (Classy = 'true' OR Upscale = 'true' OR Casual = 'false')\n",
    "         AND attributes.RestaurantsReservations = 'True'\n",
    "        \"\"\"\n",
    "\n",
    "special_occassion_df = ss.sql(query).orderBy(F.desc('stars'),  \n",
    "                                             F.desc(F.round('upscale_special_occasion_score', 1)), \n",
    "                                             F.desc('review_count'))"
   ]
  },
  {
   "cell_type": "code",
   "execution_count": 7,
   "metadata": {},
   "outputs": [],
   "source": [
    "# Family-Friendly\n",
    "query = \"\"\"\n",
    "        SELECT name, business_id, stars\n",
    "        FROM philly_df_extracted_keywords\n",
    "        WHERE (attributes.RestaurantsPriceRange2 = 1 OR attributes.RestaurantsPriceRange2 = 2)\n",
    "         AND Casual = 'true'\n",
    "         AND attributes.GoodForKids = 'True'\n",
    "         AND categories NOT LIKE '%Nightlife%' \n",
    "         AND attributes.NoiseLevel LIKE '%average%'\n",
    "        \"\"\"\n",
    "\n",
    "family_friendly_df = ss.sql(query).orderBy(F.desc('family_friendly_reviews'), \n",
    "                                           F.desc('stars'), \n",
    "                                           F.desc('review_count'))"
   ]
  },
  {
   "cell_type": "code",
   "execution_count": 8,
   "metadata": {},
   "outputs": [],
   "source": [
    "# Rooftop\n",
    "query = \"\"\"\n",
    "        SELECT name, business_id, stars, round(rooftop_score, 1)\n",
    "        FROM philly_df_extracted_keywords\n",
    "        WHERE rooftop_skyline_reviews > 20\n",
    "        \"\"\"\n",
    "\n",
    "rooftop_df =  ss.sql(query).orderBy(F.desc(F.round('rooftop_score', 1)), \n",
    "                                    F.desc('stars'), \n",
    "                                    F.desc('rooftop_skyline_reviews'))"
   ]
  },
  {
   "cell_type": "code",
   "execution_count": 9,
   "metadata": {},
   "outputs": [],
   "source": [
    "# Budget\n",
    "query = \"\"\"\n",
    "        SELECT name, business_id, stars\n",
    "        FROM ambience_expanded\n",
    "        WHERE categories NOT LIKE '%Fast Food%'\n",
    "         AND attributes.RestaurantsPriceRange2 = 1\n",
    "         AND categories NOT LIKE '%Bakeries'\n",
    "         AND attributes.RestaurantsTableService = 'True'\n",
    "         AND (get_json_object(replace(replace(replace(attributes.GoodForMeal, \"'\", '\"'), 'False', 'false'), 'True', 'true'), '$.lunch') = 'true' \n",
    "         OR get_json_object(replace(replace(replace(attributes.GoodForMeal, \"'\", '\"'), 'False', 'false'), 'True', 'true'), '$.dinner') = 'true')\n",
    "        \"\"\"\n",
    "\n",
    "budget_df = ss.sql(query).orderBy(F.desc('stars'), F.desc('review_count'))"
   ]
  }
 ],
 "metadata": {
  "kernelspec": {
   "display_name": "DistributedComputing",
   "language": "python",
   "name": "python3"
  },
  "language_info": {
   "codemirror_mode": {
    "name": "ipython",
    "version": 3
   },
   "file_extension": ".py",
   "mimetype": "text/x-python",
   "name": "python",
   "nbconvert_exporter": "python",
   "pygments_lexer": "ipython3",
   "version": "3.8.18"
  }
 },
 "nbformat": 4,
 "nbformat_minor": 2
}
